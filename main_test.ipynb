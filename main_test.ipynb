{
 "cells": [
  {
   "cell_type": "code",
   "execution_count": 3,
   "metadata": {},
   "outputs": [
    {
     "data": {
      "text/plain": [
       "True"
      ]
     },
     "execution_count": 3,
     "metadata": {},
     "output_type": "execute_result"
    }
   ],
   "source": [
    "from dotenv import load_dotenv\n",
    "import os\n",
    "\n",
    "from utils.parser import ParserConfig, Parser\n",
    "load_dotenv()"
   ]
  },
  {
   "cell_type": "code",
   "execution_count": 4,
   "metadata": {},
   "outputs": [],
   "source": [
    "LLAMA_CLOUD = os.getenv('LLAMA_CLOUD')"
   ]
  },
  {
   "cell_type": "code",
   "execution_count": 5,
   "metadata": {},
   "outputs": [
    {
     "name": "stdout",
     "output_type": "stream",
     "text": [
      "Started parsing the file under job_id e4b7077e-2b32-4ed2-9af4-bff8cef8b12e\n",
      "...Started parsing the file under job_id 4be1b41a-3cf0-462b-8aa8-227099b3bf09\n",
      "....Started parsing the file under job_id da19ae46-dace-4fdb-9ec4-eb5bd86a66ac\n",
      "..............Started parsing the file under job_id 16292fb1-ba57-4f79-8cd2-c992a0558856\n",
      ".Started parsing the file under job_id 779b1f5c-7580-46c9-9d48-be1948da4846\n",
      ".Started parsing the file under job_id 884a12c4-9702-4a77-99a6-504e0451a1c8\n",
      "."
     ]
    }
   ],
   "source": [
    "ROOT_PATH = 'data'\n",
    "for file in os.listdir(ROOT_PATH):\n",
    "    file_path = os.path.join(ROOT_PATH,file)\n",
    "    parser_config = ParserConfig(path_to_file=file_path,\n",
    "                                llama_cloud_token=LLAMA_CLOUD,\n",
    "                                instruction=None)\n",
    "    parser = Parser(parser_config)\n",
    "    parser.create_parser()\n",
    "    parser.parse()"
   ]
  },
  {
   "cell_type": "code",
   "execution_count": 6,
   "metadata": {},
   "outputs": [
    {
     "name": "stdout",
     "output_type": "stream",
     "text": [
      "Started parsing the file under job_id 42687334-96fb-4dce-9b3a-38a7ae78a5f7\n",
      ".."
     ]
    }
   ],
   "source": [
    "parser_config = ParserConfig(path_to_file='data/j.celrep.2013.07.030.pdf',\n",
    "                                llama_cloud_token=LLAMA_CLOUD,\n",
    "                            instruction=\"Parse withoout sections ACKNOWLEDGMENTS, REFERENCES\")\n",
    "parser = Parser(parser_config)\n",
    "parser.create_parser()\n",
    "parser.parse()"
   ]
  },
  {
   "cell_type": "code",
   "execution_count": null,
   "metadata": {},
   "outputs": [],
   "source": []
  }
 ],
 "metadata": {
  "kernelspec": {
   "display_name": "dl",
   "language": "python",
   "name": "python3"
  },
  "language_info": {
   "codemirror_mode": {
    "name": "ipython",
    "version": 3
   },
   "file_extension": ".py",
   "mimetype": "text/x-python",
   "name": "python",
   "nbconvert_exporter": "python",
   "pygments_lexer": "ipython3",
   "version": "3.10.13"
  }
 },
 "nbformat": 4,
 "nbformat_minor": 2
}
