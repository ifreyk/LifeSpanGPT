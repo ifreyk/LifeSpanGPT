{
 "cells": [
  {
   "cell_type": "code",
   "execution_count": 1,
   "metadata": {},
   "outputs": [
    {
     "data": {
      "text/plain": [
       "True"
      ]
     },
     "execution_count": 1,
     "metadata": {},
     "output_type": "execute_result"
    }
   ],
   "source": [
    "from dotenv import load_dotenv\n",
    "import os\n",
    "\n",
    "from utils.parser import ParserConfig, Parser\n",
    "load_dotenv()"
   ]
  },
  {
   "cell_type": "code",
   "execution_count": 2,
   "metadata": {},
   "outputs": [],
   "source": [
    "LLAMA_CLOUD = os.getenv('LLAMA_CLOUD')"
   ]
  },
  {
   "cell_type": "code",
   "execution_count": 3,
   "metadata": {},
   "outputs": [
    {
     "name": "stdout",
     "output_type": "stream",
     "text": [
      "Started parsing the file under job_id 55810884-7286-4a21-8b2a-9df6557dd19f\n",
      ".Started parsing the file under job_id b6fdfd39-3d91-4c3a-be8d-90bcf824da22\n",
      "..Started parsing the file under job_id f68895ec-4972-406b-849f-2067a2c679c3\n",
      "....Error while parsing the file 'data/.DS_Store': Currently, only the following file types are supported: ['.pdf', '.602', '.abw', '.cgm', '.cwk', '.doc', '.docx', '.docm', '.dot', '.dotm', '.hwp', '.key', '.lwp', '.mw', '.mcw', '.pages', '.pbd', '.ppt', '.pptm', '.pptx', '.pot', '.potm', '.potx', '.rtf', '.sda', '.sdd', '.sdp', '.sdw', '.sgl', '.sti', '.sxi', '.sxw', '.stw', '.sxg', '.txt', '.uof', '.uop', '.uot', '.vor', '.wpd', '.wps', '.xml', '.zabw', '.epub', '.jpg', '.jpeg', '.png', '.gif', '.bmp', '.svg', '.tiff', '.webp', '.htm', '.html', '.xlsx', '.xls', '.xlsm', '.xlsb', '.xlw', '.csv', '.dif', '.sylk', '.slk', '.prn', '.numbers', '.et', '.ods', '.fods', '.uos1', '.uos2', '.dbf', '.wk1', '.wk2', '.wk3', '.wk4', '.wks', '.123', '.wq1', '.wq2', '.wb1', '.wb2', '.wb3', '.qpw', '.xlr', '.eth', '.tsv']\n",
      "Current file type: \n",
      "Started parsing the file under job_id beee43bf-8a8a-43b2-9b94-94b653bacbee\n",
      ".Started parsing the file under job_id 54af2378-f796-433e-a7b5-fabf49596c18\n",
      ".Started parsing the file under job_id 27a2557e-57a9-4a09-b6fa-f86c2c91dfc4\n",
      ".Started parsing the file under job_id 543575fd-bb0c-4ce4-ac0e-51a1861ad6fc\n",
      "..Started parsing the file under job_id 24c83f75-066f-4564-b457-4c8ef070c692\n",
      "..Started parsing the file under job_id f30c5a70-04df-4ec7-827b-bc9d2979440d\n",
      "..Started parsing the file under job_id 9e0ac825-a3e5-430a-8b85-96d525f73715\n",
      "..Started parsing the file under job_id e27842cf-b27e-46d6-834e-e741b8c34993\n",
      "....Started parsing the file under job_id f193df62-1c0b-4224-b302-f2bfe8b88df6\n",
      ".Started parsing the file under job_id 7b48db1f-c859-43f6-b7b5-74f213f229de\n",
      "..Started parsing the file under job_id ace0f3a7-779a-45fe-9003-2cf3df3a72e9\n",
      ".Started parsing the file under job_id a49f2749-cfd0-44a5-be0b-5f38825b6501\n",
      "............Started parsing the file under job_id 19fcaca1-02a1-4cfd-9c9f-9a694d3d0793\n",
      "..Started parsing the file under job_id 7d073bc1-b045-40c8-ad75-d0b0a4519320\n",
      "..Started parsing the file under job_id 7cc3905c-c4ef-4b57-a475-9ebfe26fc35f\n",
      ".Started parsing the file under job_id f065e832-603f-4db7-8b0e-5ec6f302c87d\n",
      ".Started parsing the file under job_id 69c9e85c-e73d-456c-a0d6-a63ea59e6b27\n",
      "..Started parsing the file under job_id de740490-1859-4152-8322-48cc96b0de37\n",
      ".Started parsing the file under job_id 8c32f135-372d-4b96-983c-0f0edac6b0b0\n",
      "Started parsing the file under job_id 91db5e4a-ad3b-46a6-9a9a-217a7338349a\n",
      ".Started parsing the file under job_id 752eb5e6-3178-4f32-a430-7a8ec6e30bcd\n",
      ".Started parsing the file under job_id a0f3893b-b1a5-416b-a82c-4a34a7a6fe3c\n",
      ".Started parsing the file under job_id 5ecfcb2e-8ee4-4689-9114-c1fa5c409dd6\n",
      ".Started parsing the file under job_id 6bd8f10c-a7f5-46f8-977f-16a681cd395c\n",
      ".Started parsing the file under job_id 47770604-8df2-400d-8d88-ed8f1f1dbcde\n",
      "..Started parsing the file under job_id 589d126f-9fad-469e-83c2-e42b2d6ffcf9\n",
      "..Started parsing the file under job_id bf96ca79-8ef8-4109-8831-ff05d833688c\n",
      ".Started parsing the file under job_id f0f81be7-e9ee-4921-8cbf-a30a31c106ef\n",
      "Started parsing the file under job_id 38f38a6b-ec97-4e45-8128-aa85b824a6a0\n",
      ".Started parsing the file under job_id 70a2667a-af49-4701-8831-e37cea6d5537\n",
      "..Started parsing the file under job_id d9013285-d53a-4f3a-92d7-15636c484dfb\n",
      "...Started parsing the file under job_id 14093366-2b1d-45fd-9eb5-8e30a4d139ae\n",
      "..Started parsing the file under job_id 689517d8-852f-41db-90a8-a2da608c32dd\n",
      ".Started parsing the file under job_id d18d9f13-6f42-4315-8f7a-4a1eb3018bc3\n",
      "Started parsing the file under job_id 362195af-0c77-4cde-88b1-8e25f06f2e9d\n",
      "..Started parsing the file under job_id 27d4dcf9-ee9a-4d8e-aae1-fc7f77941100\n",
      ".Started parsing the file under job_id bff390aa-5568-47a4-a4dc-320e59d1a533\n",
      "Started parsing the file under job_id 50b8d3b5-2a90-44b8-a571-9cf01babe689\n",
      ".Started parsing the file under job_id 7f550122-77da-4f9b-afec-67f63f525819\n",
      ".Started parsing the file under job_id 8965d8f9-abcf-48a0-a613-7fa2d6bb546c\n",
      "..Started parsing the file under job_id 15aa0af4-1aeb-4ce1-b41a-b24ead83da41\n",
      "...Started parsing the file under job_id a9a1faba-2ee7-4987-8179-ae9c6077bf67\n",
      ".Started parsing the file under job_id 2764b680-b402-4a8f-a8fe-aed3f9b936c2\n",
      "..Started parsing the file under job_id 9c755735-3878-4d38-861a-e1823a926497\n",
      ".Started parsing the file under job_id aaa0403f-35dc-43dc-b2ea-da686378422b\n",
      ".Started parsing the file under job_id 63d63bf5-0e52-4c13-9ebc-b5244ac03c2f\n",
      ".Started parsing the file under job_id 4025b2b9-0b38-4be1-b5ea-5b6cc68b34cf\n",
      ".Started parsing the file under job_id 7d8da661-fa14-4ccc-acc4-18bd03d73a20\n",
      ".Started parsing the file under job_id 8b87442d-064d-491b-aa01-e5a6adf17dec\n",
      "...Started parsing the file under job_id 01c382f9-6ce4-4d27-ad6d-a559827f253d\n",
      ".Started parsing the file under job_id 59087844-348d-4104-b3eb-d31a483a0692\n",
      "Started parsing the file under job_id fab16c10-dced-4760-a53f-197c9193723b\n",
      ".Started parsing the file under job_id 4d880b38-8663-4052-bb18-5acd7669b563\n",
      ".Started parsing the file under job_id 4e13ed05-b065-44ab-8b72-72a8854b093f\n",
      ".Started parsing the file under job_id ac4f4d74-100e-4d0b-8adf-6f44ccf40cd1\n",
      ".Started parsing the file under job_id ce7d28dd-f3dd-4273-83cd-1400f2e3f9dd\n",
      ".."
     ]
    }
   ],
   "source": [
    "ROOT_PATH = 'data'\n",
    "for file in os.listdir(ROOT_PATH):\n",
    "    file_path = os.path.join(ROOT_PATH,file)\n",
    "    parser_config = ParserConfig(path_to_file=file_path,\n",
    "                                llama_cloud_token=LLAMA_CLOUD,\n",
    "                                instruction=None)\n",
    "    parser = Parser(parser_config)\n",
    "    parser.create_parser()\n",
    "    parser.parse()"
   ]
  }
 ],
 "metadata": {
  "kernelspec": {
   "display_name": "dl",
   "language": "python",
   "name": "python3"
  },
  "language_info": {
   "codemirror_mode": {
    "name": "ipython",
    "version": 3
   },
   "file_extension": ".py",
   "mimetype": "text/x-python",
   "name": "python",
   "nbconvert_exporter": "python",
   "pygments_lexer": "ipython3",
   "version": "3.10.13"
  }
 },
 "nbformat": 4,
 "nbformat_minor": 2
}
