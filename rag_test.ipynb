{
 "cells": [
  {
   "cell_type": "code",
   "execution_count": 258,
   "metadata": {},
   "outputs": [
    {
     "data": {
      "text/plain": [
       "True"
      ]
     },
     "execution_count": 258,
     "metadata": {},
     "output_type": "execute_result"
    }
   ],
   "source": [
    "\n",
    "import os\n",
    "import openai\n",
    "from getpass import getpass\n",
    "\n",
    "from langchain.text_splitter import RecursiveCharacterTextSplitter\n",
    "from langchain.embeddings import HuggingFaceBgeEmbeddings\n",
    "from langchain.chains import RetrievalQA\n",
    "from langchain.chat_models import ChatOpenAI\n",
    "from langchain.retrievers import ContextualCompressionRetriever\n",
    "from langchain.retrievers.document_compressors import CohereRerank\n",
    "from langchain_community.document_loaders import UnstructuredMarkdownLoader\n",
    "from langchain_pinecone import PineconeVectorStore\n",
    "from langchain_mistralai import ChatMistralAI\n",
    "from langchain.output_parsers import PydanticOutputParser\n",
    "from langchain_core.prompts import PromptTemplate\n",
    "from langchain_core.pydantic_v1 import BaseModel, Field, validator\n",
    "from dotenv import load_dotenv\n",
    "from langchain.vectorstores import FAISS\n",
    "from typing import List,Optional\n",
    "load_dotenv()"
   ]
  },
  {
   "cell_type": "code",
   "execution_count": 2,
   "metadata": {},
   "outputs": [],
   "source": [
    "COHERE_TOKEN = os.getenv('COHERE_TOKEN')\n",
    "MISTRAL_TOKEN = os.getenv('MISTRAL_TOKEN')\n",
    "os.environ['PINECONE_API_KEY'] = os.getenv('PINECONE')"
   ]
  },
  {
   "cell_type": "code",
   "execution_count": 3,
   "metadata": {},
   "outputs": [],
   "source": [
    "loader = UnstructuredMarkdownLoader('processed_data/pone.0083988.md')\n",
    "loaded_documents = loader.load()"
   ]
  },
  {
   "cell_type": "code",
   "execution_count": 4,
   "metadata": {},
   "outputs": [
    {
     "data": {
      "text/plain": [
       "45"
      ]
     },
     "execution_count": 4,
     "metadata": {},
     "output_type": "execute_result"
    }
   ],
   "source": [
    "text_splitter = RecursiveCharacterTextSplitter(chunk_size=2048, chunk_overlap=128)\n",
    "docs = text_splitter.split_documents(loaded_documents)\n",
    "len(docs)"
   ]
  },
  {
   "cell_type": "code",
   "execution_count": 5,
   "metadata": {},
   "outputs": [
    {
     "data": {
      "text/plain": [
       "[Document(metadata={'source': 'processed_data/pone.0083988.md'}, page_content='Mice Fed Rapamycin Have an Increase in Lifespan Associated with Major Changes in the Liver Transcriptome\\n\\nWilson C. Fok, William H. Wood, 3rd, Yongqing Zhang, Kevin G. Becker, Viviana I. Pe1, Yidong Chen, Alex Bokov, Yiqiang Zhang, Adam B. Salmon, Vivian Diaz, Martin Javors, Arlan Richardson*\\n\\nAffiliations\\n\\n1 Department of Cellular and Structural Biology, The University of Texas Health Science Center at San Antonio, San Antonio, Texas, United States of America\\n\\n2 Barshop Institute for Longevity and Aging Studies, The University of Texas Health Science Center at San Antonio, San Antonio, Texas, United States of America\\n\\n3 Department of Epidemiology & Biostatistics, The University of Texas Health Science Center at San Antonio, San Antonio, Texas, United States of America\\n\\n4 Greehey Children’s Cancer Research Institute, The University of Texas Health Science Center at San Antonio, San Antonio, Texas, United States of America\\n\\n5 Cancer Therapy and Research Center, The University of Texas Health Science Center at San Antonio, San Antonio, Texas, United States of America\\n\\n6 Department of Physiology, The University of Texas Health Science Center at San Antonio, San Antonio, Texas, United States of America\\n\\n7 Department of Molecular Medicine, The University of Texas Health Science Center at San Antonio, San Antonio, Texas, United States of America\\n\\n8 Department of Psychiatry, The University of Texas Health Science Center at San Antonio, San Antonio, Texas, United States of America\\n\\n9 National Institute on Aging, Baltimore, Maryland, United States of America\\n\\n10 Linus Pauling Institute, Department of Biochemistry and Biophysics, Oregon State University, Corvallis, Oregon, United States of America\\n\\n11 Research Service and Geriatric Research Education and Clinical Center, Audie Murphy VA Hospital (STVHCS), San Antonio, Texas, United States of America\\n\\nAbstract'),\n",
       " Document(metadata={'source': 'processed_data/pone.0083988.md'}, page_content='Abstract\\n\\nRapamycin was found to increase (11% to 16%) the lifespan of male and female C57BL/6J mice most likely by reducing the increase in the hazard for mortality (i.e., the rate of aging) term in the Gompertz mortality analysis. To identify the pathways that could be responsible for rapamycin’s longevity effect, we analyzed the transcriptome of liver from 25-month-old male and female mice fed rapamycin starting at 4 months of age. Few changes (<300 transcripts) were observed in transcriptome of rapamycin-fed males; however, a large number of transcripts (>4,500) changed significantly in females. Using multidimensional scaling and heatmap analyses, the male mice fed rapamycin were found to segregate into two groups: one group that is almost identical to control males (Rapa-1) and a second group (Rapa-2) that shows a change in gene expression (>4,000 transcripts) with more than 60% of the genes shared with female mice fed Rapa. Using ingenuity pathway analysis, 13 pathways were significantly altered in both Rapa-2 males and rapamycin-fed females with mitochondrial function as the most significantly changed pathway. Our findings show that rapamycin has a major effect on the transcriptome and point to several pathways that would likely impact the longevity.\\n\\nCitation\\n\\nFok WC, Chen Y, Bokov A, Zhang Y, Salmon AB, et al. (2014) Mice Fed Rapamycin Have an Increase in Lifespan Associated with Major Changes in the Liver Transcriptome. PLoS ONE 9(1): e83988. doi:10.1371/journal.pone.0083988\\n\\nEditor\\n\\nMatt Kaeberlein, University of Washington, United States of America\\n\\nReceived\\n\\nOctober 2, 2013\\n\\nAccepted\\n\\nNovember 11, 2013\\n\\nPublished\\n\\nJanuary 7, 2014\\n\\nLicense\\n\\nThis is an open-access article, free of all copyright, and may be freely reproduced, distributed, transmitted, modified, built upon, or otherwise used by anyone for any lawful purpose. The work is made available under the Creative Commons CC0 public domain dedication.\\n\\nFunding'),\n",
       " Document(metadata={'source': 'processed_data/pone.0083988.md'}, page_content='Funding\\n\\nFinancial support was provided by The San Antonio Nathan Shock Aging Center (1p30-AG-13319, AR), National Institutes of Health (NIH) RC2 Grand Opportunity grant (AG036613, AR), NIH T32 Training Grant (AG021890, WF), the Ellison Medical Foundation (VP), the Intramural Research Program of the NIH, National Institute on Aging, and VA Merit grant (Richardson) from the Department of Veteran Affairs. Computation Support was provided by the Computational System Biology Core funded by the National Institute on Minority Health and Health Disparities (G12MD007591) from the NIH. The funders had no role in study design, data collection and analysis, decision to publish, or preparation of the manuscript.\\n\\nCompeting Interests\\n\\nThe authors have read the journal’s policy and have the following conflicts. AR holds stock in and is on the board of directors for Rapamycin Holdings, Inc. and this does not alter the authors’ adherence to all the PLOS ONE policies on sharing data and materials.\\n\\nIntroduction'),\n",
       " Document(metadata={'source': 'processed_data/pone.0083988.md'}, page_content='Introduction\\n\\nMajor advances in the biology of aging have been made over the past two decades due to several novel manipulations that were found to increase the lifespan of invertebrates and rodents. Up until 1996, the only manipulation consistently shown to increase lifespan in rodents was dietary restriction (DR). Because DR was also found to delay/reduce the incidence of most age-related diseases and pathology and to improve most physiological functions, it is generally accepted that DR increases lifespan by delaying aging [1]. In 1996, Brown-Borg et al. [2] reported the first genetic manipulation that increases the lifespan of a mammal; the Ames dwarf mice that have a mutation in Prop-1, which resulted in a deficiency in growth hormone leading to growth retardation. Subsequently, a number of genetic manipulations also have been shown to increase the lifespan of mice [3]. In 2009, Harrison et al. [4] reported that feeding mice rapamycin (Rapa) increased the lifespan of mice. This was a major discovery because it demonstrated that a pharmacological manipulation, which potentially could be translated to humans, increased lifespan and appeared to delay aging.\\n\\nRapa, which is produced by Streptomyces hygroscopicus, inhibits the Target of Rapamycin (TOR) signaling pathway [5]. TOR is a serine/threonine kinase that is a regulatory nexus in response of eukaryotic cells to nutrients, growth factors, and energy status. TOR forms two major complexes in mammals, mTORC1 and# Rapamycin Alters the Transcriptome of Mice'),\n",
       " Document(metadata={'source': 'processed_data/pone.0083988.md'}, page_content='mTORC2. The components that make up the complexes are purchased from the National Institute of Aging (Baltimore, MD). similar, which includes mTOR, mLST8, Deptor, and TTI1/TEL2, with Raptor and PPRAS40 specific for mTORC1 and Rictor, mSIN1, and PPR5/Protor specific for mTORC2 [6]. mTORC1 plays a major role in regulating protein synthesis through the phosphorylation of 4E-BP1 and S6K1. 4E-BP1 controls the cap-dependent translation of mRNA transcripts and S6K1 controls the phosphorylation of riboprotein S6, which is involved in the translation of mRNA transcripts to proteins [7]. In addition to Rapa’s well documented effect on cell growth and proliferation [8], decreased mTORC1 signaling is associated with increased autophagy, which could improve protein quality by removing damaged/misfolded proteins. Initially it was shown that Rapa’s inhibition was specific to mTORC1 and that mTORC2 was unaffected; however, recent studies suggest that chronic treatment of Rapa may also inhibit mTORC2 [9]. While the functions regulated by mTORC2 are not well known, reports in the literature suggest that mTORC2 has effects on the actin cytoskeleton, plays a role in insulin sensitivity, and regulates AKT signaling [6].'),\n",
       " Document(metadata={'source': 'processed_data/pone.0083988.md'}, page_content='Previous epistasis studies show that inhibition of TOR signaling by genetic manipulation or by feeding Rapa extends the lifespan of invertebrates [10]. The original observation by Harrison et al. [4] showed that Rapa extends lifespan of male and female UM-HET3 mice (generated from four inbred strains) fed Rapa starting at 19 months of age. Subsequently, Anisimov et al. [11] showed that Rapa given intermittently (2 weeks per month) increased the lifespan of female 129/Sv mice, and Miller et al. [12] showed that feeding male and female UM-HET3 mice Rapa starting at 9 months of age increased lifespan. More recently, Zhang et al. [13] reported that C57BL/6 mice fed Rapa starting from 19 months of age also extends lifespan; however, the increase in lifespan in this study was modest compared to that reported by Harrison et al. [4] in UM-HET3 mice. Thus, the effect of Rapa on the lifespan of mice is very robust, suggesting that mTOR signaling plays an important role in aging. Interestingly, DR and Ames dwarf mice, the two manipulations that consistently have been shown to increase lifespan also show a decrease in mTOR signaling [14].'),\n",
       " Document(metadata={'source': 'processed_data/pone.0083988.md'}, page_content='Although Rapa has been shown to alter cell growth/proliferation and autophagy through its inhibition of TOR, we have very little information on the mechanism(s) responsible for Rapa’s longevity phenotype. When autophagy genes are blocked in C. elegans, lifespan extension by TOR inhibition is prevented and lifespan reverts back to wild type [15]. In D. melanogaster, the lifespan extension observed when feeding Rapa is reverted back to control when S6K is overexpressed, 4E-BP1 is inhibited, or the autophagy gene Atg5 is reduced by RNAi [16]. It has also been shown that knocking out S6K1 (S6k1 is downstream of mTORC1) extends the lifespan of female but not male mice [17]. The goal of this study is to identify pathways/mechanisms by which Rapa extends lifespan in mice by comparing the effect of chronic Rapa treatment on the transcriptome of male and female mice. We show that feeding mice Rapa chronically, beginning at 4 months of age, increased lifespan 16% for females and 11% for males and resulted in major changes in the transcriptome that are associated with 13 pathways that are significantly altered by Rapa in both males and females.\\n\\nMaterials and Methods\\n\\nAnimals and feeding regiment'),\n",
       " Document(metadata={'source': 'processed_data/pone.0083988.md'}, page_content='Materials and Methods\\n\\nAnimals and feeding regiment\\n\\nFor the chronic Rapa study, male and female C57BL/6 mice were purchased from The Jackson Laboratory (Bar Harbor, ME) and for the 6-months Rapa study, male and female C57BL/6 were purchased from the National Institute of Aging (Baltimore, MD). Two dietary regimens were used in this study: mice fed a commercial chow, LabDiet 5LG6-JL (LabDiet, St. Louis, MO), with Eudragit capsule (control) or 14 ppm encapsulated rapamycin (Rapa) in the food as described by Harrison et al. [4] from 4 months of age for the chronic Rapa study and from 19 months of age for the 6-months Rapa study. Mice in this study were fed the two diets ad libitum and maintained on a 12/12 hour light/dark cycle (6:00am/pm lights on/off). For the lifespan study, mice were started on Rapa or control diets at 4 months of age and maintained on these diets until the end of life. Otherwise, mice were maintained on 6-months or chronic dietary regiments until 25 months of age (6 and 21 months of treatment respectively). The mice were sacrificed at the same time of day (9:00 to 11:00am), i.e., the mice were not fasted before collecting the tissues. At which point tissues were collected. Mice were euthanized by carbon dioxide and liver tissues collected, snap frozen in liquid nitrogen, and stored at -80°C until used. At the time of tissue collection, mice were healthy and free of disease as demonstrated by no major loss of weight and normal activity and appearance. All procedures for this study were approved by the Institutional Animal Care and Use Committee at the University of Texas Health Science Center at San Antonio under protocol number: IACUC#10003x.\\n\\nLifespan Study'),\n",
       " Document(metadata={'source': 'processed_data/pone.0083988.md'}, page_content='Lifespan Study\\n\\nA total of 175 mice were used in the lifespan study with 40 mice in the control male group and 45 mice in each of the following groups: Rapa males, control females, and Rapa females. Mice were maintained in pathogen-free barrier conditions with 5 mice per cage and were permitted to live out their lives until death due to natural causes without censoring, with the exception of 2 mice, which were terminated early due to fatal neoplastic disease. The mice used in the lifespan study were not disturbed except to check on the mice twice each day and to remove dead mice. Survival analysis were done using Cox proportional hazard and Weibull’s accelerated failure time models. The mean, 80%, 50%, 10%, and maximum survival data were calculated for each group from the survival analysis.\\n\\nGompertz mortality analysis'),\n",
       " Document(metadata={'source': 'processed_data/pone.0083988.md'}, page_content='Gompertz mortality analysis\\n\\nUsing the distributions of ages at death, we tested among competing models for acceleration in the rate of increase in mortality based on the Gompertz family of models. The standard Gompertz model is in the form of u(x) = aebx, where u(x) is the instantaneous age-specific mortality. Model selection was based on a maximum-likelihood framework implemented in program WinModest [18]. Briefly, four models were considered: the two parameter Gompertz model (the standard Gompertz model), the Gompertz model with a constant additive age-independent term (Gompertz-Makeham model), the three parameter Logistic model (i.e., Gompertz with deceleration), and the Logistic-Makeham with an additive age-independent term. We used the least parameterized model, two-parameter Gompertz, because it provided the best fit for all mortality datasets [19] and the least parameterized model (two-parameter Gompertz) is recommended unless a more parameterized model has a significantly larger likelihood. Significance testing follows a standard method of comparing twice the difference between the likelihoods of the models being compared, which is distributed as chi-square with 1 degree of freedom. Thus, we examined two parameters from the Gompertz model that, together, describe aging dynamics within each treatment group. The first metric was the initial rate of mortality modeled beginning at age 4 months, denoted by the Gompertz parameter a. The second metric was the...# Rapamycin Alters the Transcriptome of Mice\\n\\nRapamycin levels in Blood and Liver tissue'),\n",
       " Document(metadata={'source': 'processed_data/pone.0083988.md'}, page_content='Rapamycin levels in Blood and Liver tissue\\n\\nAn HPLC system coupled to an AB Sciex API 3200 tandem mass spectrometer with turbo ion spray was used to rapamycin levels in the blood and liver. Rapa and ASCO (internal standard) obtained from LC Laboratories (Woburn, MA) were used in the quantification of Rapa. Approximately 100 ml of blood or 100 mg of liver samples and 0.1 mL of calibrator were mixed by sonification with 10 mL of 0.5 mg/mL ASCO and mixed with a solution containing 0.1% formic acid and 10 mM ammonium formate dissolved in 95% HPLC grade methanol. Supernatants, which were obtained by centrifugation at 15,000 g for 5 min at 23°C, were then injected into the LC/MS/MS. The ratio of the peak area of Rapa to that of the internal standard ASCO (response ratio) for each unknown sample was compared against a standard curve using different concentrations of Rapa standard. The concentration of Rapa was expressed as ng/ml for blood and pg/mg of liver tissue protein.\\n\\nRNA processing\\n\\nMini RNeasy kit (Qiagen, Valencia, CA) was used to extract total RNA from frozen liver (25 mg) following manufacturer’s protocols. The RNA quality was assessed by agarose gel and Agilent Bioanalyzer (Agilent Technologies, Santa Clara, CA), and the quantification of RNA was determined using the Nanodrop (Thermo Scientific, Wilmington, DE). Extracted RNA was then processed into cRNA probes for hybridization to arrays using Illumina Total RNA prep kit from Ambion (Life Technologies, Grand Island, NY) following manufacturer’s protocols. Liver cRNA probes were then hybridized to Illumina Mouse Ref8 microarrays (V2.0, Illumina, San Diego, CA) following manufacturer’s protocol. Hybridized arrays were scanned by the iSCAN system (Illumina, San Diego, CA). Generation and hybridization of probes and scanning of the arrays were done by Dr. Kevin Becker, Unit Head of the National Institute of Aging Gene Expression and Genomics Core.\\n\\nMicroarray Analysis'),\n",
       " Document(metadata={'source': 'processed_data/pone.0083988.md'}, page_content='Microarray Analysis\\n\\nData of the scanned arrays were extracted by Genome Studios software (v 1.6, Illumina, San Diego, CA). The data were then transformed and normalized using log2 transformation and the quantile normalization method in Matlab (2011a, The Mathworks, Natick, MA). For statistical analysis, t-test pairwise comparisons were used. False discovery analysis was then applied to the dataset using the Benjamini-Hochberg (B-H) algorithm as an adjusted p-value. Data processing and statistics were done using Matlab. Analysis of all the detected probes by multidimensional scaling analysis was done using Matlab. For gene analysis, we analyzed microarray data with filtering criteria of adjusted p<0.05 and >15% change in Rapa vs. control in both males and females. Significantly changed genes were then visually analyzed using heatmap analysis in Matlab. Pathway analysis was done using Ingenuity Pathway Analysis (Ingenuity Systems, Redwood City, CA) which uses Fisher’s exact test for association of significantly changed genes into pathways and the B-H p<0.05 was then used to determine statistical significance.\\n\\nData Deposition\\n\\nMicroarray data for this study has been deposited in Gene Expression Omnibus with accession number GSE48834 and can be viewed at: http://www.ncbi.nlm.nih.gov/geo/query/acc.cgi?token=nnqvnqugsygaatq&acc=GSE48334.\\n\\nResults'),\n",
       " Document(metadata={'source': 'processed_data/pone.0083988.md'}, page_content='In our lifespan study, male and female mice were given diets containing 14 ppm of rapamycin starting at four months of age. Figures S1 and S2 in File S1 show the body weights and food consumption over the lifespan of the four groups of mice. The mice fed Rapa showed a slightly lower body weight at some ages compared to controls; however, we observed no difference in food consumption. The data in Figure 1A, 1B, and Table S1 in File S1 show that Rapa significantly increased the lifespan of both male and female mice based on the Cox proportion hazard and Weibull’s survival analyses. Rapa increased the mean and median survival for females and the 10% survival for both males and females (Table S1 in File S1). The extension of lifespan was slightly greater in females than for the males fed Rapa. For example, when the entire survival curve was analyzed, Rapa was found to increase lifespan 16% in females compared to 11% in males (Figure 1A and 1B). The percent extension in lifespan was also greater in females vs. males for mean (14% vs. 7%) and maximum (19% vs. 8%) survival, and the Rapa-treated females were observed to have a significant increase in survival at earlier ages than males, e.g., 80% survival (Table S1 in File S1). Therefore, Rapa appears to have a greater and earlier effect on lifespan in female than male C57BL/6 mice. This is consistent with the reports using UM-HET3 mice [4,12]. We fit the distributions of the ages-at-death to the Gompertz family of models using maximum likelihood estimation [18]. From these initial models, the two-parameter Gompertz model provided the most parsimonious fit to the data for all sex and diet groups (Figure 1C and 1D, Table S3 in File S1). Because male and female mice did not differ from each other for the estimated Gompertz parameters when tested within each dietary treatment, we combined the sexes to increase the statistical power of the Rapa versus control comparison. We found that overall, Rapa significantly reduced mortality risk in the Gompertz whole model'),\n",
       " Document(metadata={'source': 'processed_data/pone.0083988.md'}, page_content='Rapa versus control comparison. We found that overall, Rapa significantly reduced mortality risk in the Gompertz whole model (p<1.61×10-26) by either reducing the initial mortality rate (at age 4 months), the rate of increasing mortality over the adult life span, or both. We observed no change in initial rate of mortality (p = 0.53); however, the rate of increase in the hazard for mortality, an indication of the rate of aging, approached significance (p = 0.06). Our mortality data is comparable to data reported by Miller et al. [12] for UM-HET3 mice.'),\n",
       " Document(metadata={'source': 'processed_data/pone.0083988.md'}, page_content='As a first approach into identifying genes and pathways that are altered by Rapa, we compared the liver transcriptome of male and female mice fed the control or Rapa diet, focusing on liver because it is the one of the first tissues to be exposed to Rapa, resulting in the liver being exposed to higher levels of Rapa relative to other tissues. Most important, liver expresses a large and diverse number of metabolic pathways, which allows us to view broadly the effects of Rapa. 25-month-old mice were studied to observe the chronic effect (21 months) of Rapa at a dose that increased lifespan before major changes occurred in survivorship or disease burden, which would complicate the interpretation of our transcriptome data. As shown in Table S2 in File S1, Rapa had no effect on the weight of liver or most tissues in 25-month-old males and females. We found that the levels of blood Rapa measured in 10-month-old males and females were significantly different, while the Rapa levels in the livers of males and females measured at 25-months were not significantly different (Figure 2A and 2B). Interestingly, we observed no difference in mTORC1 signaling in mice (either males or females) fed the control or Rapa diets for 21 months as measured by the ratio of phosphorylation of S6 to total S6.# Rapamycin Alters the Transcriptome of Mice\\n\\nA Males\\n\\nB Females\\n\\n100% 80% 60% 40% 20% 0% Control Rapamycin 10 15 20 25 30 35 40 45\\n\\nC\\n\\nD\\n\\nControl Female Rapa Female Control Male Rapa Male 15 20 30 35 Age (Months) 10 15 20 25 30 35 40'),\n",
       " Document(metadata={'source': 'processed_data/pone.0083988.md'}, page_content='C\\n\\nD\\n\\nControl Female Rapa Female Control Male Rapa Male 15 20 30 35 Age (Months) 10 15 20 25 30 35 40\\n\\nFigure 1. Rapamycin extends the lifespan of male and female C57BL/6 mice fed rapamycin. Survival curves are shown for male (A) and female (B) C57BL/6 mice fed diets containing eudragit (control, black boxes) or Rapa (red circles) starting at 4 months of age. Forty mice were in the control male group and 45 mice each in the Rapa male, control female, and Rapa female groups. The survival data were statistically analyzed using Cox proportional hazard and Weibull’s survival model. The Cox proportional hazard test shows Rapa-fed mice are 47% and 58% less likely to die at the same age as the controls in males (p = 0.004) and females (p,0.001) respectively. The Weibull survival model shows that Rapa-fed male and female have an extension of 11% and 16%, respectively, beyond the controls with p = 0.006 in males and p,0.001 in females. The statistical analysis of the mean, 80%, 50%, 10%, and maximum survival are given in Table S1 in File S1. Ln plots of fitted Gompertz mortality models where the hazard (instantaneous mortality rate) at age x, ux = aebx with x beginning at 4 months and continuing until the end of life. Models were first fitted to each sex and diet group separately and shown in (C). Control males are in red, Rapa males in pink, control females in blue, and Rapa females in cyan. Because the sexes did not differ under control or Rapa treatment using maximum-likelihood estimation, we combined the sexes and compared Rapa to Control diets irrespective of sex (D). Combined sex controls in black and combined sex Rapa in green. Pooling of the sexes allowed for identifying the parameter(s) that differ between Rapa and control-fed animals, and indicates that the rate of aging (b), but not the initial mortality rate (a), differed between Rapa and control mice.\\n\\ndoi:10.1371/journal.pone.0083988.g001'),\n",
       " Document(metadata={'source': 'processed_data/pone.0083988.md'}, page_content='doi:10.1371/journal.pone.0083988.g001\\n\\nS3 in File S1), which is in contrast to what we observed when Rapa is given to mice for 6 months [13,20]. Several other groups have reported that Rapa does not alter mTOR signaling when given chronically over a long period of time [21,22]. The lack of changes observed in the mTOR signaling by phosphorylated S6 to total S6 ratio could also be due to the lack of synchronization of the mice prior to sacrifice and the Rapa dose studied. We did observe that the TOR transcripts were significantly increased in both Rapa-2 males and Rapa-fed females. Sengupta et al. [23] observed a significant increase in S6 phosphorylation in the liver of mice with age when fasted, but no change when the mice were fed. On the other hand, our microarray data show changes in transcripts for mTORC2 signaling pathway, e.g., Rictor and Sgk1 are significantly down-regulated, while Akt shows no change in expression, and Pkc1a expression is increased. Our microarray data suggest that Pkc1a gene expression is up-regulated (in Rapa-2 male). These data are in agreement with Habib et al. [24], who found that sirolimus (rapamycin) activates PKC1a in endothelial cells. Based on our transcriptome data, it appears that the mTORC2 signaling pathway may be reduced because of the down-regulation of Rictor, which is needed in the formation of mTORC2, which agreed with previous data from Lamming et al. [9].'),\n",
       " Document(metadata={'source': 'processed_data/pone.0083988.md'}, page_content='We first used the multidimensional scaling analysis (MDS, Figure 3A) to compare the transcriptomes of male and female mice fed the two diets. MDS is an unbiased analysis that allows us to determine which of the four groups are similar and different. Using all the probes detected (25,697), we clearly observe gender differences in the transcriptome; the control-fed male and female mice form separate groups. In the females, the Rapa-fed mice appear as a group that is distinctly separate from the control-fed mice. In contrast, the Rapa males appear in two groups; 7 mice appear similar to the control males and 6 mice similar to the Rapa females. We observed no difference in body weight, body composition, and mTOR signaling between Rapa-1 males (the group similar to control males) and Rapa-2 males (the group that differs from control males). However, we did observe a difference in Rapa levels. Rapa-2 males had a significantly higher level of Rapa in the liver than Rapa-1 males (Figure 2B). Interesting,# Rapamycin Alters the Transcriptome of Mice\\n\\nLiver Levels\\n\\nThe gender specific differences in the liver transcriptome were reduced in the Rapa-2 males. Previous reports show that Rapa treatment in humans reduced testosterone levels [25] and Rapa-fed mice show testicular degeneration [26].\\n\\nBlood Levels'),\n",
       " Document(metadata={'source': 'processed_data/pone.0083988.md'}, page_content='Blood Levels\\n\\nTo identify the pathways that were changed with Rapa, we used ingenuity pathway analysis (IPA), which places genes into pathways determined from the literature. We observed that 37 pathways significantly changed in Rapa-2 males and 19 pathways significantly changed in Rapa females and these are listed in File S2 tab2 and tab3. In Figure 5, we show the 13 pathways shared by Rapa-2 males and Rapa females, ranked by the lowest B-H p-value. We validated the changes in genes in the mitochondria function and estrogen signaling pathways using quantitative real-time PCR. In the mitochondrial function pathway, we show that transcripts for Glrx2 and Cox6A2 were down-regulated while Cyb5r3a and Cyc1 were up-regulated in Rapa-2 males and Rapa females (Figure S5A in File S1). In the estrogen receptor signaling pathway, Esr1, Sra1, and Kat2b were all down-regulated in Rapa-2 males and Rapa females similar to what was observed in the transcriptome analysis (Figure S5B in File S1). The expression of Stat3 and Pck1 (Figure S5C in File S1), which are genes downstream of the estrogen receptor signaling, are also down-regulated in both Rapa-2 males and Rapa females.\\n\\nFigure 2'),\n",
       " Document(metadata={'source': 'processed_data/pone.0083988.md'}, page_content='Figure 2\\n\\nRapamycin levels in the blood and liver of mice fed rapamycin. Rapamycin levels were measured in mice fed rapamycin starting at 4 months of age using HPLC-mass spectrometry, and the data are presented as ng Rapa per ml of blood or pg Rapa per mg of liver. Graph A shows blood levels measured at 10 months of age and Graph B shows liver levels measured at 25 months of age for liver. The values for each mouse are shown as follows: females (cyan triangles), Rapa-1 males (dark pink circles), Rapa-2 males (pink circles), and total Rapa males in blood (magenta). The red bars indicate mean ± SEM for Rapa-1 and Rapa-2 males while the black bars indicate mean ± SEM for all the Rapa male and Rapa female mice. The data were statistically analyzed using the student T-tests with blood Rapa male versus Rapa female giving a p-value of p = 0.006, liver Rapa-1 males versus Rapa-2 males giving a p-value of p < 0.001, and the liver Rapa male (total) vs. Rapa female giving a p-value of 0.46.\\n\\nGenes whose expression were significantly changed by feeding Rapa were identified using a false discovery rate of adjusted p < 0.05 and > 15% change. In Rapa females, 4761 transcripts changed significantly from control females; 2504 up-regulated and 2257 down-regulated. For the Rapa males, 288 transcripts significantly changed from control males with 159 up-regulated and 129 down-regulated. Because of our MDS data, we compared the control males to the Rapa-1 and Rapa-2 male groups. Rapa-1 males showed only 28 genes significantly changed from control males (9 up-regulated and 19 down-regulated, Figure S4A and S4B in File S1). When we compared Rapa-2 males to control males, 4042 transcripts were significantly changed with 2092 up-regulated and 1950 down-regulated (Figure S4C and S4D in File S1). Over 60% of the transcripts (2498) that changed in Rapa-2 males were also significantly altered in Rapa females: 1178 (56%) of the transcripts that increased and 1320 (68%) that decreased in Rapa-2 males.\\n\\nHeatmap Analysis'),\n",
       " Document(metadata={'source': 'processed_data/pone.0083988.md'}, page_content='Heatmap Analysis\\n\\nHeatmap analysis of the transcriptome data allowed us to visually compare the levels of transcripts in each of the mice in the four groups. Figure 3B shows that the patterns of change in Rapa females are different from control females. As would be predicted from the MDS analysis, the pattern of gene changes in the Rapa-2 males differed from the Rapa-1 males and became similar to the Rapa female while the patterns of intensities in Rapa-1 males are almost identical to control males. When we compared the genes that are gender specific (see heatmap in Figure 4), we observed that the expression of the gender specific transcripts in Rapa-1 males was identical to the control males; however, the pattern of expression of these transcripts for the Rapa-2 males was strikingly similar to the control females and Rapa females, suggesting that the difference in the pattern of gene expression between the female mice fed Rapa and those fed the control diet is striking, agreeing with the MDS analysis.\\n\\nPLOS ONE | www.plosone.org\\n\\nJanuary 2014 | Volume 9 | Issue 1 | e83988# Rapamycin Alters the Transcriptome of Mice\\n\\nA\\n\\nControl Female Rapa Female Control Male Rapa Male 0.03 0.02 0.06 0.04 0.04 0.02 0.02 0.02 0.02 -0.04\\n\\nB\\n\\nControl Male, Rapa Male, Control Female, Rapa Female'),\n",
       " Document(metadata={'source': 'processed_data/pone.0083988.md'}, page_content='B\\n\\nControl Male, Rapa Male, Control Female, Rapa Female\\n\\nFigure 3. Multidimensional scaling and heatmap analyses shows the separations of Rapa and control groups. Multidimensional scaling analysis was conducted using all the probes detected (25,697 probes) on the microarrays (A). Control males are shown in red, Rapa males in pink, control females in blue, and Rapa females in cyan. Each dot represents one sample and the lines indicate the three nearest neighbors. In the females, the Rapa mice segregate separately from the control mice, while in the males, 7 Rapa mice group similar to the control males and 6 of the Rapa males do not group with the control males. From this analysis, we separated the Rapa males into two groups for subsequent analysis, Rapa-1 males as the group that appears similar to the control males and Rapa-2 males as the group that appears different from the control males. The heatmap analysis shows the expression of all transcripts that were observed to change significantly with Rapa in both male and female mice (B). The genes were clustered using linkage hierarchical cluster with Euclidean distance. The transcript expressions are shown with red for high, black for middle, and green for low expression. The male mice in Rapa-2 are shown by the asterisks. A list of the transcripts that significantly changed with chronic Rapa feeding is shown in the same top to bottom clustering order as the heatmap in File S2, tab1. doi:10.1371/journal.pone.0083988.g003'),\n",
       " Document(metadata={'source': 'processed_data/pone.0083988.md'}, page_content='We next compared the effect of 6 and 21 months of Rapa treatment on the liver transcriptome. In these analyses, we used the female mice because Rapa changed the levels of only a few transcripts in male mice. After matching the microarray datasets for detected transcripts with 6 months and 21 months of Rapa treatment in females, we observed 1427 transcripts changed in the 6-months Rapa female group, 675 increased and 752 decreased; 4761 transcripts changed with chronic Rapa female group, 2504 increased and 2257 decreased. We observed that 577 transcripts changed in similar directions in both the 6-months and chronic Rapa treated females, i.e., 40% of the transcripts that changed in the 6-months Rapa female mice. The heatmap analysis of gene expression in Figure 7 for the two groups of female mice shows similar, but not identical, patterns of expression. We observed that 6 months of Rapa treatment significantly altered 3 pathways in the females: mitochondrial function and protein ubiquitination, which were shared with the female and Rapa-2 mice fed Rapa for 21 months, and RAN signaling (Figure S6C in File S1).\\n\\nPLOS ONE | www.plosone.org | January 2014 | Volume 9 | Issue 1 | e83988# Rapamycin Alters the Transcriptome of Mice\\n\\nFigure 4'),\n",
       " Document(metadata={'source': 'processed_data/pone.0083988.md'}, page_content='PLOS ONE | www.plosone.org | January 2014 | Volume 9 | Issue 1 | e83988# Rapamycin Alters the Transcriptome of Mice\\n\\nFigure 4\\n\\nHeatmap analysis of the transcriptome for gender differences. We identified the 372 transcripts (333 higher in males and 39 higher in females) that were significantly different in control male and female 25-month-old mice using a filtering criteria of adjusted p-value < 0.01 and log2 change greater than 1 or -1. The expression of these transcripts are shown in a heatmap analysis format for Control male, Rapa-1 male, Rapa-2 male, and Control female mice (A). The differences in the gender specific transcripts highlight that Rapa-2 male mice are different from control and Rapa-1 male and that the changes appear similar to the females. However when Rapa female mice is added to the heatmap analysis, it appears that the gender specific transcripts in Rapa-2 male are actually more similar to the Rapa female mice (B). The genes were clustered using linkage hierarchical cluster with Euclidean distance, and the expression of each of the transcripts are shown with red for high, black for middle, and green for low expression.\\n\\ndoi:10.1371/journal.pone.0083988.g004\\n\\nDiscussion'),\n",
       " Document(metadata={'source': 'processed_data/pone.0083988.md'}, page_content='doi:10.1371/journal.pone.0083988.g004\\n\\nDiscussion\\n\\nHarrison et al. [4] were the first to show that rapamycin increased lifespan of UM-HET-3 mice when Rapa treatment was initiated at 19 months of age, e.g., a 9% and 14% increase in the lifespan of male and female mice, respectively. In a follow-up study, Miller et al. [12] showed a similar extension of lifespan in male and female UM-HET3 mice when Rapa feeding was initiated at 9 months of age. Interestingly, Zhang et al. [13] observed only a modest increase in lifespan of C57BL/6 mice when Rapa feeding was begun at 19 months of age. The lifespan of female mice increased only 6%, and Rapa had no significant effect on the lifespan of male mice. In this study, we show that Rapa treatment initiated at 4 months of age increased the lifespan of both male and female C57BL/6 mice to a level similar to that observed in UM-HET3 mice; lifespan was increased 11% for male and 16% for female C57BL/6 mice. Gompertz mortality analysis of our data suggest that the significantly decreased mortality hazards in Rapa-fed mice is due to a reduction in the rate of aging in the C57BL/6 mice, which is comparable to what Miller et al. [12] observed in UM-HET3 mice. In the studies with UM-HET3 and C57BL/6 mice, the Rapa dose (14 ppm) and diet composition were the same. Thus, C57BL/6 mice appear to require longer period of exposure to 14 ppm Rapa to show an increase in lifespan similar to that observed in UM-HET3 mice. We believe this difference in response to rapamycin most likely arises because levels of Rapa are much lower in the C57BL/6 compared to UM-HET3 mice. The blood levels of C57BL/6 mice fed 14 ppm Rapa in our study were 3–5 ng/ml compared to 13.4±2.6 [26] or 60–70 ng/ml [4] for UM-HET3 mice. Because drug metabolism and# Rapamycin Alters the Transcriptome of Mice\\n\\nA. Rapa-2'),\n",
       " Document(metadata={'source': 'processed_data/pone.0083988.md'}, page_content='A. Rapa-2\\n\\nPercent of Genes Changed 0% 20% 40% 60% 80% 100% Mitochondrial Function* 192 192 192 192 192 192 Protein Ubiquitination 268 268 268 268 268 268 Estrogen Receptor 136 136 136 136 136 136 IGF-1 Signaling 105 105 105 105 105 105 NRF2-mediated Oxidative Stress Response 192 192 192 192 192 192 EIF2 Signaling 200 200 200 200 200 200 VEGF Signaling 104 104 104 104 104 104 Glucocorticoid Receptor Signaling 294 294 294 294 294 294 Leukemia Signaling Chronic Myeloid 105 105 105 105 105 105 Integrin Signaling 208 208 208 208 208 208 Regulation of elF4 & p70S6K Signaling 175 175 175 175 175 175 Telomerase Signaling 104 104 104 104 104 104 Tryptophan Degradation (Eukaryotic)\\n\\nB. Rapa\\n\\nPercent of Genes Changed 0% 20% 40% 60% 80% 100% Mitochondrial Function* 192 192 192 192 192 192 Estrogen Receptor 136 136 136 136 136 136 EIF2 Signaling 200 200 200 200 200 200 Protein Ubiquitination Pathway 268 268 268 268 268 268 NRF2-mediated Oxidative Stress Response 192 192 192 192 192 192 Integrin Signaling 208 208 208 208 208 208 Telomerase Signaling 104 104 104 104 104 104 Chronic Myeloid Leukemia Signaling 105 105 105 105 105 105 Regulation of elF4 & p70S6K Signaling 175 175 175 175 175 175 IGF-1 Signaling 105 105 105 105 105 105 Glucocorticoid Receptor Signaling 294 294 294 294 294 294 VEGF Signaling 104 104 104 104 104 104 Tryptophan Degradation (Eukaryotic)'),\n",
       " Document(metadata={'source': 'processed_data/pone.0083988.md'}, page_content='Figure 5. Pathway analysis indicates that male and female mice fed Rapa share 13 pathways. Pathway analysis was conducted using IPA for significantly changed transcripts in Rapa-2 males and Rapa females relative to respective sex controls with adjusted p<0.05 and 15% change. IPA used Fisher’s exact test to place genes into pathways, and we also used a FDR cutoff of B-H p<0.05 to show the highly significant pathways. The 13 shared pathways ranked by B-H p-value are shown for Rapa-2 males (A) and Rapa females (B). For the graphical portion of A and B, the yellow line indicates the –log(B-H p-value). Red indicates up-regulated and green represents down-regulated genes significantly changed in Rapa compared to control, and white indicates the percentage of genes not significantly changed in the pathway relative to the total number of genes in that pathway (bolded number). Twenty-four other pathways were observed to change significantly in Rapa-2 males: acute phase response signaling, hypoxia signaling, PI3K/AKT signaling, remodeling of epithelial adherens junctions, sertoli cell-sertoli cell junction signaling, renal cell carcinoma signaling, JAK/Stat signaling, IL-3 signaling, myc mediated apoptosis signaling, germ cell-sertoli cell junction signaling, pancreatic adenocarcinoma signaling, insulin receptor signaling, non-small cell lung cancer signaling, Rac signaling, small cell lung cancer signaling, PTEN signaling, prostate cancer signaling, neurotrophin/TRK signaling, PAK signaling, RAR activation, NGF signaling, clathrin-mediated endocytosis signaling, huntington’s disease signaling, and TCA cycle II. Six other pathways were observed to change significantly in Rapa females: systemic lupus erythematosus signaling, mTOR signaling, actin nucleation by ARP-WASP complex, superpathway of methionine degradation, glutathione-mediated detoxification, and oncostatin M signaling. A list of the pathways that significantly changed with chronic Rapa feeding is shown in File S2, tab2 for Rapa-2 male; tab3 for Rapa female and'),\n",
       " Document(metadata={'source': 'processed_data/pone.0083988.md'}, page_content='that significantly changed with chronic Rapa feeding is shown in File S2, tab2 for Rapa-2 male; tab3 for Rapa female and the transcripts that change for the 13 shared pathways are found in File S3. The asterisk indicates that the mitochondrial function pathway is indicated as mitochondrial dysfunction in IPA. The mitochondrial dysfunction pathway described in IPA is somewhat misleading because it contains genes involved in mitochondrial function in general, e.g., genes in the electron transport chain complexes and redox and antioxidant enzymes as well as other genes related to mitochondrial function.'),\n",
       " Document(metadata={'source': 'processed_data/pone.0083988.md'}, page_content='doi:10.1371/journal.pone.0083988.g005# Rapamycin Alters the Transcriptome of Mice\\n\\nControl Female Rapa Female Control Male Rapa Male A 0.025 0.015 0.055 0.025 0.065 0.02 0.01 0.015 0.015 0.005 0.01 0.06 0.015 0.008\\n\\nFigure 6\\n\\nMultidimensional scaling and heatmap analysis show that 6-months Rapa females are separate and different from control females. Multidimensional scaling analysis of the transcriptome data from the 42 mice fed Rapa 6-months from 19 to 25 months of age was conducted using all the probes detected (17,082 probes) on the microarrays (A). Control males are shown in red, Rapa males in pink, control females in blue, and Rapa females in cyan. Each dot represents one sample and the lines indicate the three nearest neighbors. Heatmap analysis of all the transcripts that are significantly altered by 6-months Rapa female compared to control females are shown (B). The genes were clustered using linkage hierarchical cluster with Euclidean distance and the expression of transcripts are shown with red for high, black for middle, and green for low expression. A list of the transcripts that significantly changed with 6-months Rapa feeding is shown in the same top to bottom clustering order as the heatmap in File S2, tab4.\\n\\ndoi:10.1371/journal.pone.0083988.g006'),\n",
       " Document(metadata={'source': 'processed_data/pone.0083988.md'}, page_content='doi:10.1371/journal.pone.0083988.g006\\n\\nSra1, were significantly increased in female and Rapa-2 males chronically fed Rapa. Estrogen receptor alpha transcript levels have been reported to be reduced by Rapa in C2C12 myoblasts [30], and estrogen receptor positive breast cancer lines show reduced growth when treated with Rapa [31]. VEGF signaling, which controls vascular function and angiogenesis that is necessary for cancer progression, appears to be decreased in Rapa-fed male and female mice, e.g., the transcripts for Vegfa and Flt1, the VEGF receptor-1, are decreased. Guba et al. [32] showed that Rapa inhibits adenocarcinoma tumor growth and migration by decreasing VEGF production and signaling. In chronic myeloid leukemia signaling, the expression of p53 and Smad3 are increased in both males and females fed Rapa. p53 is a well-known tumor suppressor that controls the G1/S checkpoint in cell cycle and induces DNA damage repair. Smad3 is a downstream regulatory element of the Tgf-b pathway that has been shown to inhibit cell growth [33].'),\n",
       " Document(metadata={'source': 'processed_data/pone.0083988.md'}, page_content='Interestingly, six of the 13 pathways have been shown to modulate aging, e.g., mitochondrial function, protein ubiquitination, NRF2-mediated oxidative stress response pathway, glucocorticoid receptor signaling, IGF-1 signaling, eIF2 signaling, and the regulation of eIF4 & p70S6K signaling. Mitochondrial function pathway was the pathway most significantly changed by Rapa in the female and Rapa-2 mice, it is the only pathway significant at B-H p,161026. The majority of the transcripts that change in complex I and II transcripts decrease while complex III, IV, and V transcripts that change increase in chronic Rapa-fed female and Rapa-2 male mice. We also observed a decrease in the expression of genes involved in redox regulation, e.g., a significant decrease in transcripts for Sod2, Glrx2, and Prdx5 were observed in both female and Rapa-2 mice fed Rapa chronically. In 6-months Rapa females, the genes in complex I, II, IV, and V are down-regulated, while complex III is not changed. Clpp, an ATP-dependent peptidase in the inner mitochondrial membrane, which is involved in the activation of the mitochondrial protein unfolding.\\n\\nPLOS ONE | www.plosone.org\\n\\nJanuary 2014 | Volume 9 | Issue 1 | e83988# Rapamycin Alters the Transcriptome of Mice\\n\\nFigure 7\\n\\n|Rapa Female|Rapa Female|Rapa Female|Rapa Female| |---|---| |19-25|4-25|19-25|4-25|'),\n",
       " Document(metadata={'source': 'processed_data/pone.0083988.md'}, page_content='Figure 7\\n\\n|Rapa Female|Rapa Female|Rapa Female|Rapa Female| |---|---| |19-25|4-25|19-25|4-25|\\n\\nRelative heatmap analysis indicates high degree of similarity between 6-months and chronic Rapa feeding in female mice. Heatmap analysis of individual, 25-month-old female mice fed Rapa for 6 (6-months) or 21 (chronic) months compared to the respective average of the control females are shown. The transcripts that are significantly changed in 6-months or chronic Rapa females are shown in (A) and the transcripts that only significantly change in 6-months Rapa females are shown in (B) compared to chronic Rapa females. For this heatmap analysis, red indicates up-regulated transcripts, green indicates down-regulated transcripts, and black indicates little or no change. The transcripts were plotted using log2 values and the heatmap scales from a change of 22 to 2 log2 change. A list comparing the transcripts that significantly changed with 6-months or chronic Rapa feeding is shown in the same top to bottom clustering order as the heatmap in File S2, tab6.\\n\\ndoi:10.1371/journal.pone.0083988.g007\\n\\nResponse [34], is increased in mice fed Rapa. In 6-months Rapa females, genes in complex I, II, IV, and V were decreased along with Glrx2 and Prdx5. Currently, there is little information about the effect of Rapa on mitochondria function in animals. Studies with cells in culture indicate that Rapa treatment alters mitochondrial function, e.g., reduced oxygen consumption [30,35] and decrease mitochondrial membrane potential and ATP synthesis [35].'),\n",
       " Document(metadata={'source': 'processed_data/pone.0083988.md'}, page_content='Protein ubiquitination, which signals specific proteins for degradation through the proteasome, appears to be decreased in chronically Rapa-fed mice, e.g. several ubiquitin-conjugating E2 transcripts such as Ube2a, Ube2d3, Ube2g1, Ube2q1 and ubiquitin-ligase E3A are decreased. Proteasome subunits such as Psmc1, Psmd1, Psmd10, Psmd14, Psme7, and Psme9 are also decreased in Rapa-2 males and females. In 6-months Rapa females, ubiquitin-conjugating E2 transcript Ube2j1 and proteasome subunits Psmb10, Psmb5, Psmb7, Psmc6, Psmd6, Psmc7, Psmd11, Psmd12, and Psmd14 are decreased suggesting a decrease in protein ubiquitination as well. Zhang et al. [13] reported that proteasome activity was reduced in liver as well as other tissues in 19-month old female mice fed Rapa for 6 months. They also observed that the decrease in proteasome activity was paralleled by increased autophagy, suggesting Rapa treatment shifts protein degradation from the proteasome pathway to the autophagy pathway. It has been shown previously that protein degradation through the proteasome and autophagy pathways is coordinated in a way that changes in one pathway are countered by changes in the opposite direction in the other pathway, e.g., the chronic inhibition of proteasome are paralleled by increased autophagy [36].'),\n",
       " Document(metadata={'source': 'processed_data/pone.0083988.md'}, page_content='The up-regulation of the NRF2 pathway is believed to be in extending lifespan and delaying aging. For example, NRF2 has been suggested to partially be responsible for the increased resistance to oxidative stress observed in DR mice [37]. In addition, overexpression of skn-1, the Nrf1/2/3 homolog in C. elegans, extends lifespan and increase stress resistance [38]. Changes in the levels of several transcripts in the NRF2 signaling pathway suggest that this pathway is reduced in chronically fed Rapa-2 males and females. First, Nrf2 transcripts are decreased, and the transcript level of Keap1, the inhibitor of Nrf2, are increased. Second, the anti-oxidative responsive genes regulated by NRF2 are down-regulated (Gst, Sod2, Cat, Fth1, and Prdx1 transcript levels are significantly reduced). Also, the levels of the transcript for Gclm, which is the rate limiting enzyme in glutathione biosynthesis, is reduced in the mice fed Rapa. A reduction in NRF2 signaling would be predicted to result in tissues/cells becoming more sensitive to a variety of environmental stresses. Our preliminary data show that primarily cultures of mouse fibroblasts pre-treated with Rapa are more sensitive to a variety of stresses, e.g., hypochlorous acid, paraquat, and t-butyl hydroperoxide (Figure S7 in File S1).'),\n",
       " Document(metadata={'source': 'processed_data/pone.0083988.md'}, page_content='The identification that the IGF-1 signaling pathway as one of the pathways significantly altered by Rapa is interesting because research over the past decade points to Igf-1 being important in aging, e.g., circulating IGF-1 levels are reduced by DR, mutations in daf2, the homolog of Igf-1 in C. elegans, increase lifespan [39] and female mice deficient in the IGF-1 receptor show increased lifespan [40]. Igf-1 transcript is increased in both Rapa-2 males and Rapa females, suggesting that Rapa treatment induces IGF-1 synthesis by the liver, which is the tissue responsible for the production of circulating levels of IGF-1. Igf binding protein-1, which binds IGF-1 maintaining it in an inactive state [41], transcripts are decreased significantly in Rapa-2 males and decreased in Rapa females but not significantly. Igf binding protein 7, which also binds with a higher affinity to insulin, transcripts are decreased in both Rapa-2 males and Rapa females. Thus, our data suggest that circulating levels of IGF-1 accessible to other tissues is higher in the mice fed Rapa. While an increase in IGF-1 signaling may not be comparable to what has been observed with DR and mutants in Igf-1/Igf-1-receptor, increased IGF-1 signaling could have a positive effect on the aging brain because IGF-1 has been shown to improve brain synaptic structure, plasticity, and functions [42].\\n\\nTwo of the six pathways potentially involved in aging are related to protein synthesis: eIF2 signaling and the regulation of eIF4 & p70S6K signaling. The eIF2 and eIF4 & p70S6K signaling pathways overlap and play a major role in the regulation of translation. One would expect the eIF2 and eIF4 & p70S6K signaling pathways to be reduced in liver tissue of our mice treated with Rapa because mTOR, which regulates translation, is# Rapamycin Alters the Transcriptome of Mice'),\n",
       " Document(metadata={'source': 'processed_data/pone.0083988.md'}, page_content='inhibited by Rapa. We observe a significant reduction in the transcript levels of a number of ribosomal proteins in the 60S (Rpl4, Rpl23, Rpl39, Rpl27a, and Rpl7) and 40S (Rps3 and Rps3a) ribosome subunits in Rapa-2 males and Rapa females. A similar effect was also observed in 6-months Rapa treated females, which is consistent with previous reports that reduced mTOR signaling decreases ribosome biogenesis [43]. We also observed changes in the levels of transcripts for proteins that regulate the initiation of protein synthesis. For example, the transcript levels of Eif3, which activates initiation by facilitating the initial binding of the 40S ribosome subunit to mRNA, was significantly reduced; while the transcript for Eif2b, which facilitates the binding of tRNA and the 60S ribosome to the 40S initiation complex, was increased significantly in Rapa-2 males and Rapa females.'),\n",
       " Document(metadata={'source': 'processed_data/pone.0083988.md'}, page_content='A decrease in the overall rate of protein synthesis by Rapa could be important in translation fidelity and protein quality. Conn and Qian [44] recently reported that activation of mTOR activity by Rheb led to an increased rate of ribosomal translation and reduced translation fidelity, while inhibition of mTOR by Rapa restored translation fidelity by reducing the rate of ribosome translation of mRNA [45]. Our observation that Rapa alters eIF2 signaling and the regulation of eIF4 & p70S6K signaling pathways are consistent with the suggestion by Kaeberlein and Kennedy [46] that reduction of global mRNA translation and increase in selective transcripts may be beneficial in aging, and Selman et al. [17] reported that null mutation in the S6k1 gene increases the lifespan of female, but not male mice. It is also interesting to note that Rapa did not extend the lifespan of Drosophila that express a constitutively active form of S6K1 or in Drosophila null in 4E-BP1 [16], indicating that down-regulation of protein synthesis may be important in the lifespan extension effects of Rapa in Drosophila. Therefore, the alterations we have observed in the eIF2 signaling and the regulation of eIF4 & p70S6K signaling pathways could potentially contribute to the life-extending actions of Rapa.'),\n",
       " Document(metadata={'source': 'processed_data/pone.0083988.md'}, page_content='One interesting observation from our study was that ERK signaling was common to 10 of the 13 IPA pathways found to be shared in Rapa-2 males and Rapa females. Based on the increase in the transcripts for c-Raf and Erk1/2 in Rapa-2 males and for c-Raf, Mek1/2, and Erk in the Rapa females, it would appear that ERK signaling is increased in the Rapa treated mice and that this increase might be important in the changes we observe in some of these pathways. For example, chronic activation of ERK signaling has been shown to down-regulate the NRF2 pathway [47]. Also, glucocorticoids have been shown to inhibit ERK signaling and because the glucocorticoid receptor signaling is down-regulated by Rapa, this could be a potential reason in the increase in ERK signaling [48]. ERK signaling may be increased to counteract the decrease in protein synthesis by Rapa, which is known to decrease protein synthesis, because ERK signaling has been shown to regulate ribosome biogenesis [49] and S6k1 [50].'),\n",
       " Document(metadata={'source': 'processed_data/pone.0083988.md'}, page_content='In summary, our study provides the first insight into the potential mechanisms of Rapa’s life-extending mechanisms. We identified several pathways, which would have been predicted from what is known about rapamycin’s mode of action, e.g., alterations in pathways involved in protein synthesis and turnover. Our data suggest that Rapa improves protein quality by reducing protein synthesis and shifting protein degradation to autophagy. Improved protein quality has been proposed to play a major role in aging [51,52]. On the other hand, the alterations we observed in the apparent reduction in pathways involved in protecting cells/tissues from stress (NRF2-mediated oxidative stress response), as well as reduced levels of transcripts for several antioxidant enzymes, were surprising and suggest that animals fed Rapa are more sensitive to stress, including oxidative stress. Research over the past two decades has shown that almost all manipulations that increase lifespan show increased resistance to stress, e.g., DR, dwarf mouse models, and the many long-lived mutants of C. elegans [53]. If future studies confirm our pathway analysis of the transcriptome and show that tissues/cells from mice fed Rapa are more sensitive, or even have no change in sensitivity to stress, Rapa would be one of the few manipulations that increase lifespan without a corresponding increase in stress resistance, suggesting that combining Rapa with other manipulations might extend lifespan further. Finally, we were surprised to find that the pathway most robustly affected by Rapa was mitochondrial function. While mitochondrial function has long been viewed as important in aging, there is currently little evidence that Rapa alters mitochondria function. Our transcriptome data indicate that a more intensive study of the effect of Rapa/mTOR on mitochondrial function is needed.\\n\\nSupporting Information'),\n",
       " Document(metadata={'source': 'processed_data/pone.0083988.md'}, page_content='Supporting Information\\n\\nFile S1 Supporting information file containing Figures S1–S7, Tables S1–S4, supplementary methods, and detail descriptions of the tabs in File 2, 3, and 4. Figure S1: Body weight data for mice from 5 to 21 months of age. Figure S2: Food consumption data for mice from 5 to 24 months of age. Table S1: Survival analysis of C57BL/6 mice fed Rapamycin. Table S2: Fitted Gompertz Mortality Models. Table S3: Tissue Weights at 25 months of age. Figure S3: Phosphorylated S6/Total S6 ratio shows no change among all the groups. Figure S4: Gene analysis shows that Rapa-2 males share many genes that change in Rapa Female mice. Figure S5: Validation of genes in the mitochondria dysfunction and estrogen receptor signaling pathways. Table S4: Gene enrichment analysis using DAVID bioinformatics resources. Figure S6: Gene analysis shows significant gene changes in 6-months Rapa female mice. Figure S7: Fibroblasts pretreated with Rapa are more sensitive to oxidative stressors. (XLSX)\\n\\nFile S2 File containing data for genes and pathways found to be significantly changed by Rapa. (XLSX)\\n\\nFile S3 File containing data for genes significantly changed in pathways found to be shared by Rapa-2 male and Rapa female. (XLSX)\\n\\nFile S4 File containing data for DAVID gene enrichment analysis ranked by enrichment score using genes significantly changed in chronic Rapa-2 male, chronic Rapa female, and 6-months Rapa females. (XLSX)\\n\\nAcknowledgments\\n\\nWe would like to thank UTHSCSA LAR for mouse husbandry, Anne Bronikowski for the Gompertz Mortality Analysis, and Greg Friesenhahn for rapamycin measurements.\\n\\nAuthor Contributions\\n\\nConceived and designed the experiments: WF VP AR. Performed the experiments: WF YiZ AS VD WW. Analyzed the data: WF YC AB YiZ AS MJ YoZ KB. Wrote the paper: WF VP AR.\\n\\nPLOS ONE | www.plosone.org 11 January 2014 | Volume 9 | Issue 1 | e83988# Rapamycin Alters the Transcriptome of Mice\\n\\nReferences'),\n",
       " Document(metadata={'source': 'processed_data/pone.0083988.md'}, page_content='References\\n\\nFontana L, Partridge L, Longo VD (2010) Extending healthy life span–from yeast to humans. Science 328: 321–326.\\n\\nBrown-Borg HM, Borg KE, Meliska CJ, Bartke A (1996) Dwarf mice and the ageing process. Nature 384: 33.\\n\\nLadiges W, Van Remmen H, Strong R, Ikeno Y, Treuting P, et al. (2009) Lifespan extension in genetically modified mice. Aging Cell 8: 346–352.\\n\\nHarrison DE, Strong R, Sharp ZD, Nelson JF, Astle CM, et al. (2009) Rapamycin fed late in life extends lifespan in genetically heterogeneous mice. Nature 460: 392–395.\\n\\nHay N, Sonenberg N (2004) Upstream and downstream of mTOR. Genes Dev 18: 1926–1945.\\n\\nOh WJ, Jacinto E (2011) mTOR complex 2 signaling and functions. Cell Cycle 10: 2305–2316.\\n\\nLaplante M, Sabatini DM (2012) mTOR signaling in growth control and disease. Cell 149: 274–293.\\n\\nStanfel MN, Shamieh LS, Kaeberlein M, Kennedy BK (2009) The TOR pathway comes of age. Biochim Biophys Acta 1790: 1067–1074.\\n\\nLamming DW, Ye L, Katajisto P, Goncalves MD, Saitoh M, et al. (2012) Rapamycin-induced insulin resistance is mediated by mTORC2 loss and uncoupled from longevity. Science 335: 1638–1643.\\n\\nJohnson SC, Rabinovitch PS, Kaeberlein M (2013) mTOR is a key modulator of ageing and age-related disease. Nature 493: 338–345.\\n\\nAnisimov VN, Zabezhinski MA, Popovich IG, Piskunova TS, Semenchenko AV, et al. (2011) Rapamycin increases lifespan and inhibits spontaneous tumorigenesis in inbred female mice. Cell Cycle 10: 4230–4236.\\n\\nMiller RA, Harrison DE, Astle CM, Baur JA, Boyd AR, et al. (2011) Rapamycin, but not resveratrol or simvastatin, extends life span of genetically heterogeneous mice. J Gerontol A Biol Sci Med Sci 66: 191–201.\\n\\nZhang Y, Bokov A, Gelfond J, Soto V, Ikeno Y, et al. (2013) Rapamycin Extends Life and Health in C57BL/6 Mice. J Gerontol A Biol Sci Med Sci.'),\n",
       " Document(metadata={'source': 'processed_data/pone.0083988.md'}, page_content='Sharp ZD, Bartke A (2005) Evidence for down-regulation of phosphoinositide 3-kinase/Akt/mammalian target of rapamycin (PI3K/Akt/mTOR)-dependent translation regulatory signaling pathways in Ames dwarf mice. J Gerontol A Biol Sci Med Sci 60: 293–300.\\n\\nHansen M, Chandra A, Mitic LL, Onken B, Driscoll M, et al. (2008) A role for autophagy in the extension of lifespan by dietary restriction in C. elegans. PLoS Genet 4: e24.\\n\\nBjedov I, Toivonen JM, Kerr F, Slack C, Jacobson J, et al. (2010) Mechanisms of life span extension by rapamycin in the fruit fly Drosophila melanogaster. Cell Metab 11: 35–46.\\n\\nSelman C, Tullet JM, Wieser D, Irvine E, Lingard SJ, et al. (2009) Ribosomal protein S6 kinase 1 signaling regulates mammalian life span. Science 326: 140–144.\\n\\nPletcher S (1999) Model fitting and hypothesis testing for age-specific mortality data. Journal of Evolutionary Biology 12: 430–439.\\n\\nBronikowski A, Flatt T (2010) Aging and its demographic measurement. Nat Educ Knowl 1.\\n\\nFok WC, Zhang Y, Salmon AB, Bhattacharya A, Gunda R, et al. (2013) Short-term treatment with rapamycin and dietary restriction have overlapping and distinctive effects in young mice. J Gerontol A Biol Sci Med Sci 68: 108–116.\\n\\nVeilleux A, Houde VP, Bellmann K, Marette A (2010) Chronic inhibition of the mTORC1/S6K1 pathway increases insulin-induced PI3K activity but inhibits Akt2 and glucose transport stimulation in 3T3-L1 adipocytes. Mol Endocrinol 24: 766–778.\\n\\nDrake JC, Peelor FF, 3rd, Biela LM, Watkins MK, Miller RA, et al. (2013) Assessment of Mitochondrial Biogenesis and mTORC1 Signaling During Chronic Rapamycin Feeding in Male and Female Mice. J Gerontol A Biol Sci Med Sci.\\n\\nSengupta S, Peterson TR, Laplante M, Oh S, Sabatini DM (2010) mTORC1 controls fasting-induced ketogenesis and its modulation by ageing. Nature 468: 1100–1104.'),\n",
       " Document(metadata={'source': 'processed_data/pone.0083988.md'}, page_content='Habib A, Karmali V, Polavarapu R, Akahori H, Cheng Q, et al. (2013) Sirolimus-FKBP12.6 impairs endothelial barrier function through protein kinase C-alpha activation and disruption of the p120-vascular endothelial cadherin interaction. Arterioscler Thromb Vasc Biol 33: 2425–2431.\\n\\nHuyghe E, Zairi A, Nohra J, Kamar N, Plante P, et al. (2007) Gonadal impact of target of rapamycin inhibitors (sirolimus and everolimus) in male patients: an overview. Transpl Int 20: 305–311.\\n\\nWilkinson JE, Burmeister L, Brooks SV, Chan CC, Friedline S, et al. (2012) Rapamycin slows aging in mice. Aging Cell 11: 675–682.\\n\\nHuang da W, Sherman BT, Lempicki RA (2009) Systematic and integrative analysis of large gene lists using DAVID bioinformatics resources. Nat Protoc 4: 44–57.\\n\\nHuang da W, Sherman BT, Lempicki RA (2009) Bioinformatics enrichment tools: paths toward the comprehensive functional analysis of large gene lists. Nucleic Acids Res 37: 1–13.\\n\\nSiu EC, Tyndale RF (2007) Characterization and comparison of nicotine and cotinine metabolism in vitro and in vivo in DBA/2 and C57BL/6 mice. Mol Pharmacol 71: 826–834.\\n\\nCunningham JT, Rodgers JT, Arlow DH, Vazquez F, Mootha VK, et al. (2007) mTOR controls mitochondrial oxidative function through a YY1-PGC-1alpha transcriptional complex. Nature 450: 736–740.\\n\\nChang SB, Miron P, Miron A, Iglehart JD (2007) Rapamycin inhibits proliferation of estrogen-receptor-positive breast cancer cells. J Surg Res 138: 37–44.\\n\\nGuba M, von Breitenbuch P, Steinbauer M, Koehl G, Flegel S, et al. (2002) Rapamycin inhibits primary and metastatic tumor growth by antiangiogenesis: involvement of vascular endothelial growth factor. Nat Med 8: 128–135.\\n\\nMassague J, Seoane J, Wotton D (2005) Smad transcription factors. Genes Dev 19: 2783–2810.\\n\\nHaynes CM, Petrova K, Benedetti C, Yang Y, Ron D (2007) ClpP mediates activation of a mitochondrial unfolded protein response in C. elegans. Dev Cell 13: 467–480.'),\n",
       " Document(metadata={'source': 'processed_data/pone.0083988.md'}, page_content='Schieke SM, Phillips D, McCoy JP, Jr., Aponte AM, Shen RF, et al. (2006) The mammalian target of rapamycin (mTOR) pathway regulates mitochondrial oxygen consumption and oxidative capacity. J Biol Chem 281: 27643–27652.\\n\\nDing Q, Dimayuga E, Martin S, Bruce-Keller AJ, Nukala V, et al. (2003) Characterization of chronic low-level proteasome inhibition on neural homeostasis. J Neurochem 86: 489–497.\\n\\nHine CM, Mitchell JR (2012) NRF2 and the Phase II Response in Acute Stress Resistance Induced by Dietary Restriction. J Clin Exp Pathol S4.\\n\\nTullet JM, Hertweck M, An JH, Baker J, Hwang JY, et al. (2008) Direct inhibition of the longevity-promoting factor SKN-1 by insulin-like signaling in C. elegans. Cell 132: 1025–1038.\\n\\nKenyon C, Chang J, Gensch E, Rudner A, Tabtiang R (1993) A C. elegans mutant that lives twice as long as wild type. Nature 366: 461–464.\\n\\nHolzenberger M, Dupont J, Ducos B, Leneuve P, Geloen A, et al. (2003) IGF-1 receptor regulates lifespan and resistance to oxidative stress in mice. Nature 421: 182–187.\\n\\nHwa V, Oh Y, Rosenfeld RG (1999) The insulin-like growth factor-binding protein (IGFBP) superfamily. Endocr Rev 20: 761–787.\\n\\nDeak F, Sonntag WE (2012) Aging, synaptic dysfunction, and insulin-like growth factor (IGF)-1. J Gerontol A Biol Sci Med Sci 67: 611–625.\\n\\nIadevaia V, Huo Y, Zhang Z, Foster LJ, Proud CG (2012) Roles of the mammalian target of rapamycin, mTOR, in controlling ribosome biogenesis and protein synthesis. Biochem Soc Trans 40: 168–172.\\n\\nConn CS, Qian SB (2013) Nutrient signaling in protein homeostasis: an increase in quantity at the expense of quality. Sci Signal 6: ra24.\\n\\nWohlgemuth I, Pohl C, Mittelstaet J, Konevega AL, Rodnina MV (2011) Evolutionary optimization of speed and accuracy of decoding on the ribosome. Philos Trans R Soc Lond B Biol Sci 366: 2979–2986.\\n\\nKaeberlein M, Kennedy BK (2011) Hot topics in aging research: protein translation and TOR signaling, 2010. Aging Cell 10: 185–190.'),\n",
       " Document(metadata={'source': 'processed_data/pone.0083988.md'}, page_content='Tan Y, Ichikawa T, Li J, Si Q, Yang H, et al. (2011) Diabetic downregulation of Nrf2 activity via ERK contributes to oxidative stress-induced insulin resistance in cardiac cells in vitro and in vivo. Diabetes 60: 625–633.\\n\\nKassel O, Sancono A, Kratzschmar J, Kreft B, Stassen M, et al. (2001) Glucocorticoids inhibit MAP kinase via increased expression and decreased degradation of MKP-1. EMBO J 20: 7108–7116.\\n\\nFelton-Edkins ZA, Fairley JA, Graham EL, Johnston IM, White RJ, et al. (2003) The mitogen-activated protein (MAP) kinase ERK induces tRNA synthesis by phosphorylating TFIIIB. EMBO J 22: 2422–2432.\\n\\nWang L, Proud CG (2002) Ras/Erk signaling is essential for activation of protein synthesis by Gq protein-coupled receptor agonists in adult cardiomyocytes. Circ Res 91: 821–829.\\n\\nCohen E, Bieschke J, Perciavalle RM, Kelly JW, Dillin A (2006) Opposing activities protect against age-onset proteotoxicity. Science 313: 1604–1610.\\n\\nMorimoto RI (2008) Proteotoxic stress and inducible chaperone networks in neurodegenerative disease and aging. Genes Dev 22: 1427–1438.\\n\\nBokov A, Chaudhuri A, Richardson A (2004) The role of oxidative damage and stress in aging. Mech Ageing Dev 125: 811–826.')]"
      ]
     },
     "execution_count": 5,
     "metadata": {},
     "output_type": "execute_result"
    }
   ],
   "source": [
    "docs"
   ]
  },
  {
   "cell_type": "code",
   "execution_count": 6,
   "metadata": {},
   "outputs": [],
   "source": [
    "#model_name = 'intfloat/multilingual-e5-large'\n",
    "#model_name = 'BAAI/bge-small-en-v1.5'\n",
    "model_name = 'BAAI/bge-m3'\n",
    "#model_name = 'sentence-transformers/paraphrase-multilingual-MiniLM-L12-v2'"
   ]
  },
  {
   "cell_type": "code",
   "execution_count": 7,
   "metadata": {},
   "outputs": [
    {
     "name": "stderr",
     "output_type": "stream",
     "text": [
      "/Users/eriktadevosan/anaconda3/envs/dl/lib/python3.10/site-packages/torch/_utils.py:831: UserWarning: TypedStorage is deprecated. It will be removed in the future and UntypedStorage will be the only storage class. This should only matter to you if you are using storages directly.  To access UntypedStorage directly, use tensor.untyped_storage() instead of tensor.storage()\n",
      "  return self.fget.__get__(instance, owner)()\n"
     ]
    }
   ],
   "source": [
    "model_name = model_name\n",
    "encode_kwargs = {'normalize_embeddings': True} # set True to compute cosine similarity\n",
    "\n",
    "embeddings = HuggingFaceBgeEmbeddings(\n",
    "    model_name=model_name,\n",
    "    model_kwargs={'device': 'mps'},\n",
    "    encode_kwargs=encode_kwargs\n",
    ")"
   ]
  },
  {
   "cell_type": "code",
   "execution_count": 8,
   "metadata": {},
   "outputs": [],
   "source": [
    "vectorstore_from_docs = FAISS.from_documents(docs,\n",
    "        embedding=embeddings\n",
    "    )\n",
    "retriever = vectorstore_from_docs.as_retriever(search_kwargs={\"k\": 10})"
   ]
  },
  {
   "cell_type": "code",
   "execution_count": 9,
   "metadata": {},
   "outputs": [],
   "source": [
    "def pretty_print_docs(docs):\n",
    "    print(\n",
    "        f\"\\n{'-' * 100}\\n\".join(\n",
    "            [f\"Document {i+1}:\\n\\n\" + d.page_content for i, d in enumerate(docs)]\n",
    "        )\n",
    "    )"
   ]
  },
  {
   "cell_type": "code",
   "execution_count": 176,
   "metadata": {},
   "outputs": [],
   "source": [
    "query = \"\"\"What animals are used in this study (divide animals in groups and describe each group)? \n",
    "Give an aswer in proper JSON format using double quotes around keys and values format: \n",
    "For example: {\"animals\":[{\"species\":\"animal_species1\",\n",
    "         \"strain\":\"animal_strain1\",\n",
    "         \"group\":\"control\",#for this field write only control or experiment group this animal group in \n",
    "         \"sex\":\"animal_sex1\",\n",
    "         \"number_of_animals\":\"number_of_animals1\"},\n",
    "         {\"species\":\"animal_species2\",\n",
    "         \"strain\":\"animal_strain2\",\n",
    "         \"group\":\"experiment\",#for this field write only control or experiment group this animal group in\n",
    "         \"sex\":\"animal_sex2\",\n",
    "         \"number_of_animals\":\"number_of_animals2\"}]\"\"\""
   ]
  },
  {
   "cell_type": "code",
   "execution_count": 177,
   "metadata": {},
   "outputs": [
    {
     "name": "stdout",
     "output_type": "stream",
     "text": [
      "Document 1:\n",
      "\n",
      "B\n",
      "\n",
      "Control Male, Rapa Male, Control Female, Rapa Female\n",
      "\n",
      "Figure 3. Multidimensional scaling and heatmap analyses shows the separations of Rapa and control groups. Multidimensional scaling analysis was conducted using all the probes detected (25,697 probes) on the microarrays (A). Control males are shown in red, Rapa males in pink, control females in blue, and Rapa females in cyan. Each dot represents one sample and the lines indicate the three nearest neighbors. In the females, the Rapa mice segregate separately from the control mice, while in the males, 7 Rapa mice group similar to the control males and 6 of the Rapa males do not group with the control males. From this analysis, we separated the Rapa males into two groups for subsequent analysis, Rapa-1 males as the group that appears similar to the control males and Rapa-2 males as the group that appears different from the control males. The heatmap analysis shows the expression of all transcripts that were observed to change significantly with Rapa in both male and female mice (B). The genes were clustered using linkage hierarchical cluster with Euclidean distance. The transcript expressions are shown with red for high, black for middle, and green for low expression. The male mice in Rapa-2 are shown by the asterisks. A list of the transcripts that significantly changed with chronic Rapa feeding is shown in the same top to bottom clustering order as the heatmap in File S2, tab1. doi:10.1371/journal.pone.0083988.g003\n",
      "----------------------------------------------------------------------------------------------------\n",
      "Document 2:\n",
      "\n",
      "Lifespan Study\n",
      "\n",
      "A total of 175 mice were used in the lifespan study with 40 mice in the control male group and 45 mice in each of the following groups: Rapa males, control females, and Rapa females. Mice were maintained in pathogen-free barrier conditions with 5 mice per cage and were permitted to live out their lives until death due to natural causes without censoring, with the exception of 2 mice, which were terminated early due to fatal neoplastic disease. The mice used in the lifespan study were not disturbed except to check on the mice twice each day and to remove dead mice. Survival analysis were done using Cox proportional hazard and Weibull’s accelerated failure time models. The mean, 80%, 50%, 10%, and maximum survival data were calculated for each group from the survival analysis.\n",
      "\n",
      "Gompertz mortality analysis\n",
      "----------------------------------------------------------------------------------------------------\n",
      "Document 3:\n",
      "\n",
      "We first used the multidimensional scaling analysis (MDS, Figure 3A) to compare the transcriptomes of male and female mice fed the two diets. MDS is an unbiased analysis that allows us to determine which of the four groups are similar and different. Using all the probes detected (25,697), we clearly observe gender differences in the transcriptome; the control-fed male and female mice form separate groups. In the females, the Rapa-fed mice appear as a group that is distinctly separate from the control-fed mice. In contrast, the Rapa males appear in two groups; 7 mice appear similar to the control males and 6 mice similar to the Rapa females. We observed no difference in body weight, body composition, and mTOR signaling between Rapa-1 males (the group similar to control males) and Rapa-2 males (the group that differs from control males). However, we did observe a difference in Rapa levels. Rapa-2 males had a significantly higher level of Rapa in the liver than Rapa-1 males (Figure 2B). Interesting,# Rapamycin Alters the Transcriptome of Mice\n",
      "\n",
      "Liver Levels\n",
      "\n",
      "The gender specific differences in the liver transcriptome were reduced in the Rapa-2 males. Previous reports show that Rapa treatment in humans reduced testosterone levels [25] and Rapa-fed mice show testicular degeneration [26].\n",
      "\n",
      "Blood Levels\n",
      "----------------------------------------------------------------------------------------------------\n",
      "Document 4:\n",
      "\n",
      "PLOS ONE | www.plosone.org | January 2014 | Volume 9 | Issue 1 | e83988# Rapamycin Alters the Transcriptome of Mice\n",
      "\n",
      "Figure 4\n",
      "\n",
      "Heatmap analysis of the transcriptome for gender differences. We identified the 372 transcripts (333 higher in males and 39 higher in females) that were significantly different in control male and female 25-month-old mice using a filtering criteria of adjusted p-value < 0.01 and log2 change greater than 1 or -1. The expression of these transcripts are shown in a heatmap analysis format for Control male, Rapa-1 male, Rapa-2 male, and Control female mice (A). The differences in the gender specific transcripts highlight that Rapa-2 male mice are different from control and Rapa-1 male and that the changes appear similar to the females. However when Rapa female mice is added to the heatmap analysis, it appears that the gender specific transcripts in Rapa-2 male are actually more similar to the Rapa female mice (B). The genes were clustered using linkage hierarchical cluster with Euclidean distance, and the expression of each of the transcripts are shown with red for high, black for middle, and green for low expression.\n",
      "\n",
      "doi:10.1371/journal.pone.0083988.g004\n",
      "\n",
      "Discussion\n",
      "----------------------------------------------------------------------------------------------------\n",
      "Document 5:\n",
      "\n",
      "Heatmap Analysis\n",
      "\n",
      "Heatmap analysis of the transcriptome data allowed us to visually compare the levels of transcripts in each of the mice in the four groups. Figure 3B shows that the patterns of change in Rapa females are different from control females. As would be predicted from the MDS analysis, the pattern of gene changes in the Rapa-2 males differed from the Rapa-1 males and became similar to the Rapa female while the patterns of intensities in Rapa-1 males are almost identical to control males. When we compared the genes that are gender specific (see heatmap in Figure 4), we observed that the expression of the gender specific transcripts in Rapa-1 males was identical to the control males; however, the pattern of expression of these transcripts for the Rapa-2 males was strikingly similar to the control females and Rapa females, suggesting that the difference in the pattern of gene expression between the female mice fed Rapa and those fed the control diet is striking, agreeing with the MDS analysis.\n",
      "\n",
      "PLOS ONE | www.plosone.org\n",
      "\n",
      "January 2014 | Volume 9 | Issue 1 | e83988# Rapamycin Alters the Transcriptome of Mice\n",
      "\n",
      "A\n",
      "\n",
      "Control Female Rapa Female Control Male Rapa Male 0.03 0.02 0.06 0.04 0.04 0.02 0.02 0.02 0.02 -0.04\n",
      "\n",
      "B\n",
      "\n",
      "Control Male, Rapa Male, Control Female, Rapa Female\n",
      "----------------------------------------------------------------------------------------------------\n",
      "Document 6:\n",
      "\n",
      "doi:10.1371/journal.pone.0083988.g005# Rapamycin Alters the Transcriptome of Mice\n",
      "\n",
      "Control Female Rapa Female Control Male Rapa Male A 0.025 0.015 0.055 0.025 0.065 0.02 0.01 0.015 0.015 0.005 0.01 0.06 0.015 0.008\n",
      "\n",
      "Figure 6\n",
      "\n",
      "Multidimensional scaling and heatmap analysis show that 6-months Rapa females are separate and different from control females. Multidimensional scaling analysis of the transcriptome data from the 42 mice fed Rapa 6-months from 19 to 25 months of age was conducted using all the probes detected (17,082 probes) on the microarrays (A). Control males are shown in red, Rapa males in pink, control females in blue, and Rapa females in cyan. Each dot represents one sample and the lines indicate the three nearest neighbors. Heatmap analysis of all the transcripts that are significantly altered by 6-months Rapa female compared to control females are shown (B). The genes were clustered using linkage hierarchical cluster with Euclidean distance and the expression of transcripts are shown with red for high, black for middle, and green for low expression. A list of the transcripts that significantly changed with 6-months Rapa feeding is shown in the same top to bottom clustering order as the heatmap in File S2, tab4.\n",
      "\n",
      "doi:10.1371/journal.pone.0083988.g006\n",
      "----------------------------------------------------------------------------------------------------\n",
      "Document 7:\n",
      "\n",
      "References\n",
      "\n",
      "Fontana L, Partridge L, Longo VD (2010) Extending healthy life span–from yeast to humans. Science 328: 321–326.\n",
      "\n",
      "Brown-Borg HM, Borg KE, Meliska CJ, Bartke A (1996) Dwarf mice and the ageing process. Nature 384: 33.\n",
      "\n",
      "Ladiges W, Van Remmen H, Strong R, Ikeno Y, Treuting P, et al. (2009) Lifespan extension in genetically modified mice. Aging Cell 8: 346–352.\n",
      "\n",
      "Harrison DE, Strong R, Sharp ZD, Nelson JF, Astle CM, et al. (2009) Rapamycin fed late in life extends lifespan in genetically heterogeneous mice. Nature 460: 392–395.\n",
      "\n",
      "Hay N, Sonenberg N (2004) Upstream and downstream of mTOR. Genes Dev 18: 1926–1945.\n",
      "\n",
      "Oh WJ, Jacinto E (2011) mTOR complex 2 signaling and functions. Cell Cycle 10: 2305–2316.\n",
      "\n",
      "Laplante M, Sabatini DM (2012) mTOR signaling in growth control and disease. Cell 149: 274–293.\n",
      "\n",
      "Stanfel MN, Shamieh LS, Kaeberlein M, Kennedy BK (2009) The TOR pathway comes of age. Biochim Biophys Acta 1790: 1067–1074.\n",
      "\n",
      "Lamming DW, Ye L, Katajisto P, Goncalves MD, Saitoh M, et al. (2012) Rapamycin-induced insulin resistance is mediated by mTORC2 loss and uncoupled from longevity. Science 335: 1638–1643.\n",
      "\n",
      "Johnson SC, Rabinovitch PS, Kaeberlein M (2013) mTOR is a key modulator of ageing and age-related disease. Nature 493: 338–345.\n",
      "\n",
      "Anisimov VN, Zabezhinski MA, Popovich IG, Piskunova TS, Semenchenko AV, et al. (2011) Rapamycin increases lifespan and inhibits spontaneous tumorigenesis in inbred female mice. Cell Cycle 10: 4230–4236.\n",
      "\n",
      "Miller RA, Harrison DE, Astle CM, Baur JA, Boyd AR, et al. (2011) Rapamycin, but not resveratrol or simvastatin, extends life span of genetically heterogeneous mice. J Gerontol A Biol Sci Med Sci 66: 191–201.\n",
      "\n",
      "Zhang Y, Bokov A, Gelfond J, Soto V, Ikeno Y, et al. (2013) Rapamycin Extends Life and Health in C57BL/6 Mice. J Gerontol A Biol Sci Med Sci.\n",
      "----------------------------------------------------------------------------------------------------\n",
      "Document 8:\n",
      "\n",
      "Schieke SM, Phillips D, McCoy JP, Jr., Aponte AM, Shen RF, et al. (2006) The mammalian target of rapamycin (mTOR) pathway regulates mitochondrial oxygen consumption and oxidative capacity. J Biol Chem 281: 27643–27652.\n",
      "\n",
      "Ding Q, Dimayuga E, Martin S, Bruce-Keller AJ, Nukala V, et al. (2003) Characterization of chronic low-level proteasome inhibition on neural homeostasis. J Neurochem 86: 489–497.\n",
      "\n",
      "Hine CM, Mitchell JR (2012) NRF2 and the Phase II Response in Acute Stress Resistance Induced by Dietary Restriction. J Clin Exp Pathol S4.\n",
      "\n",
      "Tullet JM, Hertweck M, An JH, Baker J, Hwang JY, et al. (2008) Direct inhibition of the longevity-promoting factor SKN-1 by insulin-like signaling in C. elegans. Cell 132: 1025–1038.\n",
      "\n",
      "Kenyon C, Chang J, Gensch E, Rudner A, Tabtiang R (1993) A C. elegans mutant that lives twice as long as wild type. Nature 366: 461–464.\n",
      "\n",
      "Holzenberger M, Dupont J, Ducos B, Leneuve P, Geloen A, et al. (2003) IGF-1 receptor regulates lifespan and resistance to oxidative stress in mice. Nature 421: 182–187.\n",
      "\n",
      "Hwa V, Oh Y, Rosenfeld RG (1999) The insulin-like growth factor-binding protein (IGFBP) superfamily. Endocr Rev 20: 761–787.\n",
      "\n",
      "Deak F, Sonntag WE (2012) Aging, synaptic dysfunction, and insulin-like growth factor (IGF)-1. J Gerontol A Biol Sci Med Sci 67: 611–625.\n",
      "\n",
      "Iadevaia V, Huo Y, Zhang Z, Foster LJ, Proud CG (2012) Roles of the mammalian target of rapamycin, mTOR, in controlling ribosome biogenesis and protein synthesis. Biochem Soc Trans 40: 168–172.\n",
      "\n",
      "Conn CS, Qian SB (2013) Nutrient signaling in protein homeostasis: an increase in quantity at the expense of quality. Sci Signal 6: ra24.\n",
      "\n",
      "Wohlgemuth I, Pohl C, Mittelstaet J, Konevega AL, Rodnina MV (2011) Evolutionary optimization of speed and accuracy of decoding on the ribosome. Philos Trans R Soc Lond B Biol Sci 366: 2979–2986.\n",
      "\n",
      "Kaeberlein M, Kennedy BK (2011) Hot topics in aging research: protein translation and TOR signaling, 2010. Aging Cell 10: 185–190.\n",
      "----------------------------------------------------------------------------------------------------\n",
      "Document 9:\n",
      "\n",
      "Materials and Methods\n",
      "\n",
      "Animals and feeding regiment\n",
      "\n",
      "For the chronic Rapa study, male and female C57BL/6 mice were purchased from The Jackson Laboratory (Bar Harbor, ME) and for the 6-months Rapa study, male and female C57BL/6 were purchased from the National Institute of Aging (Baltimore, MD). Two dietary regimens were used in this study: mice fed a commercial chow, LabDiet 5LG6-JL (LabDiet, St. Louis, MO), with Eudragit capsule (control) or 14 ppm encapsulated rapamycin (Rapa) in the food as described by Harrison et al. [4] from 4 months of age for the chronic Rapa study and from 19 months of age for the 6-months Rapa study. Mice in this study were fed the two diets ad libitum and maintained on a 12/12 hour light/dark cycle (6:00am/pm lights on/off). For the lifespan study, mice were started on Rapa or control diets at 4 months of age and maintained on these diets until the end of life. Otherwise, mice were maintained on 6-months or chronic dietary regiments until 25 months of age (6 and 21 months of treatment respectively). The mice were sacrificed at the same time of day (9:00 to 11:00am), i.e., the mice were not fasted before collecting the tissues. At which point tissues were collected. Mice were euthanized by carbon dioxide and liver tissues collected, snap frozen in liquid nitrogen, and stored at -80°C until used. At the time of tissue collection, mice were healthy and free of disease as demonstrated by no major loss of weight and normal activity and appearance. All procedures for this study were approved by the Institutional Animal Care and Use Committee at the University of Texas Health Science Center at San Antonio under protocol number: IACUC#10003x.\n",
      "\n",
      "Lifespan Study\n",
      "----------------------------------------------------------------------------------------------------\n",
      "Document 10:\n",
      "\n",
      "Supporting Information\n",
      "\n",
      "File S1 Supporting information file containing Figures S1–S7, Tables S1–S4, supplementary methods, and detail descriptions of the tabs in File 2, 3, and 4. Figure S1: Body weight data for mice from 5 to 21 months of age. Figure S2: Food consumption data for mice from 5 to 24 months of age. Table S1: Survival analysis of C57BL/6 mice fed Rapamycin. Table S2: Fitted Gompertz Mortality Models. Table S3: Tissue Weights at 25 months of age. Figure S3: Phosphorylated S6/Total S6 ratio shows no change among all the groups. Figure S4: Gene analysis shows that Rapa-2 males share many genes that change in Rapa Female mice. Figure S5: Validation of genes in the mitochondria dysfunction and estrogen receptor signaling pathways. Table S4: Gene enrichment analysis using DAVID bioinformatics resources. Figure S6: Gene analysis shows significant gene changes in 6-months Rapa female mice. Figure S7: Fibroblasts pretreated with Rapa are more sensitive to oxidative stressors. (XLSX)\n",
      "\n",
      "File S2 File containing data for genes and pathways found to be significantly changed by Rapa. (XLSX)\n",
      "\n",
      "File S3 File containing data for genes significantly changed in pathways found to be shared by Rapa-2 male and Rapa female. (XLSX)\n",
      "\n",
      "File S4 File containing data for DAVID gene enrichment analysis ranked by enrichment score using genes significantly changed in chronic Rapa-2 male, chronic Rapa female, and 6-months Rapa females. (XLSX)\n",
      "\n",
      "Acknowledgments\n",
      "\n",
      "We would like to thank UTHSCSA LAR for mouse husbandry, Anne Bronikowski for the Gompertz Mortality Analysis, and Greg Friesenhahn for rapamycin measurements.\n",
      "\n",
      "Author Contributions\n",
      "\n",
      "Conceived and designed the experiments: WF VP AR. Performed the experiments: WF YiZ AS VD WW. Analyzed the data: WF YC AB YiZ AS MJ YoZ KB. Wrote the paper: WF VP AR.\n",
      "\n",
      "PLOS ONE | www.plosone.org 11 January 2014 | Volume 9 | Issue 1 | e83988# Rapamycin Alters the Transcriptome of Mice\n",
      "\n",
      "References\n"
     ]
    }
   ],
   "source": [
    "relevant_docs = retriever.get_relevant_documents(query)\n",
    "pretty_print_docs(relevant_docs)"
   ]
  },
  {
   "cell_type": "code",
   "execution_count": 178,
   "metadata": {},
   "outputs": [
    {
     "name": "stdout",
     "output_type": "stream",
     "text": [
      "Document 1:\n",
      "\n",
      "Lifespan Study\n",
      "\n",
      "A total of 175 mice were used in the lifespan study with 40 mice in the control male group and 45 mice in each of the following groups: Rapa males, control females, and Rapa females. Mice were maintained in pathogen-free barrier conditions with 5 mice per cage and were permitted to live out their lives until death due to natural causes without censoring, with the exception of 2 mice, which were terminated early due to fatal neoplastic disease. The mice used in the lifespan study were not disturbed except to check on the mice twice each day and to remove dead mice. Survival analysis were done using Cox proportional hazard and Weibull’s accelerated failure time models. The mean, 80%, 50%, 10%, and maximum survival data were calculated for each group from the survival analysis.\n",
      "\n",
      "Gompertz mortality analysis\n",
      "----------------------------------------------------------------------------------------------------\n",
      "Document 2:\n",
      "\n",
      "Materials and Methods\n",
      "\n",
      "Animals and feeding regiment\n",
      "\n",
      "For the chronic Rapa study, male and female C57BL/6 mice were purchased from The Jackson Laboratory (Bar Harbor, ME) and for the 6-months Rapa study, male and female C57BL/6 were purchased from the National Institute of Aging (Baltimore, MD). Two dietary regimens were used in this study: mice fed a commercial chow, LabDiet 5LG6-JL (LabDiet, St. Louis, MO), with Eudragit capsule (control) or 14 ppm encapsulated rapamycin (Rapa) in the food as described by Harrison et al. [4] from 4 months of age for the chronic Rapa study and from 19 months of age for the 6-months Rapa study. Mice in this study were fed the two diets ad libitum and maintained on a 12/12 hour light/dark cycle (6:00am/pm lights on/off). For the lifespan study, mice were started on Rapa or control diets at 4 months of age and maintained on these diets until the end of life. Otherwise, mice were maintained on 6-months or chronic dietary regiments until 25 months of age (6 and 21 months of treatment respectively). The mice were sacrificed at the same time of day (9:00 to 11:00am), i.e., the mice were not fasted before collecting the tissues. At which point tissues were collected. Mice were euthanized by carbon dioxide and liver tissues collected, snap frozen in liquid nitrogen, and stored at -80°C until used. At the time of tissue collection, mice were healthy and free of disease as demonstrated by no major loss of weight and normal activity and appearance. All procedures for this study were approved by the Institutional Animal Care and Use Committee at the University of Texas Health Science Center at San Antonio under protocol number: IACUC#10003x.\n",
      "\n",
      "Lifespan Study\n",
      "----------------------------------------------------------------------------------------------------\n",
      "Document 3:\n",
      "\n",
      "References\n",
      "\n",
      "Fontana L, Partridge L, Longo VD (2010) Extending healthy life span–from yeast to humans. Science 328: 321–326.\n",
      "\n",
      "Brown-Borg HM, Borg KE, Meliska CJ, Bartke A (1996) Dwarf mice and the ageing process. Nature 384: 33.\n",
      "\n",
      "Ladiges W, Van Remmen H, Strong R, Ikeno Y, Treuting P, et al. (2009) Lifespan extension in genetically modified mice. Aging Cell 8: 346–352.\n",
      "\n",
      "Harrison DE, Strong R, Sharp ZD, Nelson JF, Astle CM, et al. (2009) Rapamycin fed late in life extends lifespan in genetically heterogeneous mice. Nature 460: 392–395.\n",
      "\n",
      "Hay N, Sonenberg N (2004) Upstream and downstream of mTOR. Genes Dev 18: 1926–1945.\n",
      "\n",
      "Oh WJ, Jacinto E (2011) mTOR complex 2 signaling and functions. Cell Cycle 10: 2305–2316.\n",
      "\n",
      "Laplante M, Sabatini DM (2012) mTOR signaling in growth control and disease. Cell 149: 274–293.\n",
      "\n",
      "Stanfel MN, Shamieh LS, Kaeberlein M, Kennedy BK (2009) The TOR pathway comes of age. Biochim Biophys Acta 1790: 1067–1074.\n",
      "\n",
      "Lamming DW, Ye L, Katajisto P, Goncalves MD, Saitoh M, et al. (2012) Rapamycin-induced insulin resistance is mediated by mTORC2 loss and uncoupled from longevity. Science 335: 1638–1643.\n",
      "\n",
      "Johnson SC, Rabinovitch PS, Kaeberlein M (2013) mTOR is a key modulator of ageing and age-related disease. Nature 493: 338–345.\n",
      "\n",
      "Anisimov VN, Zabezhinski MA, Popovich IG, Piskunova TS, Semenchenko AV, et al. (2011) Rapamycin increases lifespan and inhibits spontaneous tumorigenesis in inbred female mice. Cell Cycle 10: 4230–4236.\n",
      "\n",
      "Miller RA, Harrison DE, Astle CM, Baur JA, Boyd AR, et al. (2011) Rapamycin, but not resveratrol or simvastatin, extends life span of genetically heterogeneous mice. J Gerontol A Biol Sci Med Sci 66: 191–201.\n",
      "\n",
      "Zhang Y, Bokov A, Gelfond J, Soto V, Ikeno Y, et al. (2013) Rapamycin Extends Life and Health in C57BL/6 Mice. J Gerontol A Biol Sci Med Sci.\n"
     ]
    }
   ],
   "source": [
    "compressor = CohereRerank(model='rerank-english-v3.0',\n",
    "                          cohere_api_key=COHERE_TOKEN)\n",
    "compression_retriever = ContextualCompressionRetriever(\n",
    "    base_compressor=compressor, base_retriever=retriever\n",
    ")\n",
    "compressed_docs = compression_retriever.get_relevant_documents(query)\n",
    "pretty_print_docs(compressed_docs)"
   ]
  },
  {
   "cell_type": "code",
   "execution_count": 179,
   "metadata": {},
   "outputs": [],
   "source": [
    "llm = ChatMistralAI(model_name=\"mistral-large-latest\",temperature=0.1,api_key=MISTRAL_TOKEN)"
   ]
  },
  {
   "cell_type": "code",
   "execution_count": 180,
   "metadata": {},
   "outputs": [],
   "source": [
    "class Animal(BaseModel):\n",
    "    species: str = Field(description=\"Species of the animal\")\n",
    "    strain: str = Field(description=\"Strain of the animal\")\n",
    "    group: str = Field(description=\"Control or experiment group\")\n",
    "    sex: str = Field(description=\"Sex of the animal\")\n",
    "    number_of_animals: str = Field(description='Number of animals in this group')\n",
    "\n",
    "class AnimalList(BaseModel):\n",
    "    animals: list[Animal]\n",
    "parser = PydanticOutputParser(pydantic_object=AnimalList)\n"
   ]
  },
  {
   "cell_type": "code",
   "execution_count": 181,
   "metadata": {},
   "outputs": [],
   "source": [
    "prompt_template = \"\"\"\n",
    "You are an assistant. Use the following information to answer the question very shortly?\n",
    "Context: {context}\n",
    "Question: {question}\n",
    "Answer:\n",
    "\"\"\"\n",
    "\n",
    "# Create a PromptTemplate instance, note the use of both 'context' and 'query'\n",
    "prompt = PromptTemplate(template=prompt_template, input_variables=[\"query\",\"context\"],\n",
    "                        partial_variables={\"format_instructions\": parser.model_json_schema()})"
   ]
  },
  {
   "cell_type": "code",
   "execution_count": 182,
   "metadata": {},
   "outputs": [],
   "source": [
    "qa = RetrievalQA.from_chain_type(llm=llm,\n",
    "                                 chain_type=\"stuff\",\n",
    "                                 retriever=compression_retriever,\n",
    "                                 chain_type_kwargs={\n",
    "                                     \"prompt\": prompt,\n",
    "                                     \"document_variable_name\": \"context\"\n",
    "                                 })"
   ]
  },
  {
   "cell_type": "code",
   "execution_count": 183,
   "metadata": {},
   "outputs": [],
   "source": [
    "result = qa.run(query)"
   ]
  },
  {
   "cell_type": "code",
   "execution_count": 184,
   "metadata": {},
   "outputs": [],
   "source": [
    "answer  = parser.invoke(result)"
   ]
  },
  {
   "cell_type": "code",
   "execution_count": 247,
   "metadata": {},
   "outputs": [],
   "source": [
    "class AnimalDetails(BaseModel):\n",
    "    treatment: str = Field(description=\"What type of treatment or intervention are used?\")\n",
    "    way_of_administration: str = Field(description=\"What way of administation are used?\")\n",
    "    age_at_start: int = Field(description=\"Age of the start of treamtment\")\n",
    "    duration_unit: str = Field(description=\"In which units age of the start was Month/Week/Day and e.t.c\")\n",
    "    dosage: str = Field(description=\"Dosage of administration\")\n",
    "class AnimalDetailsList(BaseModel):\n",
    "    animal_details: List[AnimalDetails]\n",
    "parser2 = PydanticOutputParser(pydantic_object=AnimalDetailsList)"
   ]
  },
  {
   "cell_type": "code",
   "execution_count": 248,
   "metadata": {},
   "outputs": [],
   "source": [
    "animal_descriptions = [\n",
    "    f\"{animal.sex} {animal.species} {animal.group} {animal.strain}\" \n",
    "    for animal in answer.animals\n",
    "]\n",
    "all_animals_description = \", \".join(animal_descriptions)"
   ]
  },
  {
   "cell_type": "code",
   "execution_count": 249,
   "metadata": {},
   "outputs": [
    {
     "data": {
      "text/plain": [
       "'male mouse control C57BL/6, male mouse experiment C57BL/6, female mouse control C57BL/6, female mouse experiment C57BL/6'"
      ]
     },
     "execution_count": 249,
     "metadata": {},
     "output_type": "execute_result"
    }
   ],
   "source": [
    "all_animals_description"
   ]
  },
  {
   "cell_type": "code",
   "execution_count": 250,
   "metadata": {},
   "outputs": [
    {
     "name": "stdout",
     "output_type": "stream",
     "text": [
      "animal_details=[AnimalDetails(treatment='control', way_of_administration='Food', age_at_start=4, duration_unit='Month', dosage='Eudragit capsule'), AnimalDetails(treatment='Rapa', way_of_administration='Food', age_at_start=4, duration_unit='Month', dosage='14 ppm'), AnimalDetails(treatment='control', way_of_administration='Food', age_at_start=4, duration_unit='Month', dosage='Eudragit capsule'), AnimalDetails(treatment='Rapa', way_of_administration='Food', age_at_start=4, duration_unit='Month', dosage='14 ppm')]\n"
     ]
    }
   ],
   "source": [
    "query2 = query2 = f\"\"\"\n",
    "Describe what intervention is used for each groups of animals: {all_animals_description}. \n",
    "Give an answer in proper JSON format using double quotes around keys and values. \n",
    "For example: \n",
    "{{\n",
    "  \"animal_details\": [\n",
    "    {{\n",
    "      \"treatment\": \"treatment1\", # short name of the treatment or control\n",
    "      \"way_of_administration\": \"way_of_administration1\",# Food, Intravenous, Water, Intraperitoneal\n",
    "      \"age_at_start\": \"age_at_start1\",#write only value for example 2 (second month of the life)\n",
    "      \"duration_unit\": \"duration_unit1\"# Year, Month, Week, Day and e.t.c\n",
    "      \"dosage\": \"dosage1\"#only doage values\n",
    "    }},\n",
    "    {{\n",
    "      \"treatment\": \"treatment2\",#short name of the treatment or control\n",
    "      \"way_of_administration\": \"way_of_administration2\",# Food, Intravenous, Water, Intraperitoneal\n",
    "      \"age_at_start\": \"age_at_start2\",#write only value for example 2 (second month of the life)\n",
    "      \"duration_unit\": \"duration_unit2\"# Year, Month, Week, Day and e.t.c\n",
    "      \"dosage\": \"dosage2\"#only doage values\n",
    "    }}\n",
    "  ]\n",
    "}}\n",
    "\"\"\"\n",
    "\n",
    "prompt2 = PromptTemplate(\n",
    "    template=prompt_template,\n",
    "    input_variables=[\"query\", \"context\"],\n",
    "    partial_variables={\"format_instructions\": parser2.model_json_schema()},\n",
    ")\n",
    "\n",
    "qa2 = RetrievalQA.from_chain_type(\n",
    "    llm=llm,\n",
    "    chain_type=\"stuff\",\n",
    "    retriever=compression_retriever,\n",
    "    chain_type_kwargs={\"prompt\": prompt2, \"document_variable_name\": \"context\"},\n",
    ")\n",
    "result2 = qa2.run(query2)\n",
    "answer2 = parser2.invoke(result2)\n",
    "print(answer2)"
   ]
  },
  {
   "cell_type": "code",
   "execution_count": null,
   "metadata": {},
   "outputs": [],
   "source": []
  },
  {
   "cell_type": "code",
   "execution_count": 269,
   "metadata": {},
   "outputs": [],
   "source": [
    "class AnimalResults(BaseModel):\n",
    "    median_treatment: Optional[float] = Field(description=\"Median treatment duration in units\")\n",
    "    max_treatment: Optional[float] = Field(description=\"Max treatment duration in units\")\n",
    "    treatment_units: str = Field(description=\"In what units measured lifespan\")\n",
    "    p_value: Optional[str] = Field(description=\"p-value for statistical analysis\")\n",
    "class AnimalResultsList(BaseModel):\n",
    "    animal_results: List[AnimalResults]\n",
    "parser3 = PydanticOutputParser(pydantic_object=AnimalResultsList)"
   ]
  },
  {
   "cell_type": "code",
   "execution_count": 270,
   "metadata": {},
   "outputs": [
    {
     "name": "stdout",
     "output_type": "stream",
     "text": [
      "animal_results=[AnimalResults(median_treatment=28.0, max_treatment=38.0, treatment_units='months', p_value=None), AnimalResults(median_treatment=30.0, max_treatment=41.0, treatment_units='months', p_value='0.01'), AnimalResults(median_treatment=28.0, max_treatment=38.0, treatment_units='months', p_value=None), AnimalResults(median_treatment=32.0, max_treatment=45.0, treatment_units='months', p_value='0.01')]\n"
     ]
    }
   ],
   "source": [
    "query3 = f\"\"\"\n",
    "Write life-span results for each group of animals: {all_animals_description}. \n",
    "Give an answer in proper JSON format using double quotes around keys and values. \n",
    "For example: \n",
    "{{\n",
    "  \"animal_results\": [\n",
    "    {{\n",
    "      \"median_treatment\": 10.5, # median treatment lifespan of the group (only value)\n",
    "      \"max_treatment\": 15.3,# max treatment lifespan of the group (only value)\n",
    "      \"treatment_units\":\"treatment_units1\" # In what units measured lifespan Month, Age, Week\n",
    "      \"p_value\":0.01 #p-value of statistical test if exist (only value)\n",
    "    }},\n",
    "    {{\n",
    "      \"median_treatment\": 12.4, # median treatment lifespan of the group (only value)\n",
    "      \"max_treatment\": 20.4,# max treatment lifespan of the group (only value)\n",
    "      \"treatment_units\":\"treatment_units2\"# In what units measured lifespan Month, Age, Week\n",
    "      \"p_value\":null #p-value of statistical test if exist (only value)\n",
    "    }}\n",
    "  ]\n",
    "}}\n",
    "\"\"\"\n",
    "\n",
    "prompt3 = PromptTemplate(\n",
    "    template=prompt_template,\n",
    "    input_variables=[\"query\", \"context\"],\n",
    "    partial_variables={\"format_instructions\": parser3.model_json_schema()},\n",
    ")\n",
    "\n",
    "qa3 = RetrievalQA.from_chain_type(\n",
    "    llm=llm,\n",
    "    chain_type=\"stuff\",\n",
    "    retriever=compression_retriever,\n",
    "    chain_type_kwargs={\"prompt\": prompt3, \"document_variable_name\": \"context\"},\n",
    ")\n",
    "result3 = qa3.run(query3)\n",
    "answer3 = parser3.invoke(result3)\n",
    "print(answer3)"
   ]
  },
  {
   "cell_type": "code",
   "execution_count": 267,
   "metadata": {},
   "outputs": [
    {
     "data": {
      "text/plain": [
       "AnimalResultsList(animal_results=[AnimalResults(median_treatment=27.0, max_treatment=38.0, p_value=None), AnimalResults(median_treatment=29.0, max_treatment=41.0, p_value='0.05'), AnimalResults(median_treatment=27.0, max_treatment=38.0, p_value=None), AnimalResults(median_treatment=31.0, max_treatment=45.0, p_value='0.05')])"
      ]
     },
     "execution_count": 267,
     "metadata": {},
     "output_type": "execute_result"
    }
   ],
   "source": [
    "answer3"
   ]
  },
  {
   "cell_type": "code",
   "execution_count": 265,
   "metadata": {},
   "outputs": [
    {
     "data": {
      "text/plain": [
       "'male mouse control C57BL/6, male mouse experiment C57BL/6, female mouse control C57BL/6, female mouse experiment C57BL/6'"
      ]
     },
     "execution_count": 265,
     "metadata": {},
     "output_type": "execute_result"
    }
   ],
   "source": [
    "all_animals_description"
   ]
  }
 ],
 "metadata": {
  "kernelspec": {
   "display_name": "dl",
   "language": "python",
   "name": "python3"
  },
  "language_info": {
   "codemirror_mode": {
    "name": "ipython",
    "version": 3
   },
   "file_extension": ".py",
   "mimetype": "text/x-python",
   "name": "python",
   "nbconvert_exporter": "python",
   "pygments_lexer": "ipython3",
   "version": "3.10.13"
  }
 },
 "nbformat": 4,
 "nbformat_minor": 2
}
